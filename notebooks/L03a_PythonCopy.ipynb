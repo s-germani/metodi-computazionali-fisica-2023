{
 "cells": [
  {
   "cell_type": "markdown",
   "id": "61ad51d9",
   "metadata": {},
   "source": [
    "# Copie in Numpy"
   ]
  },
  {
   "cell_type": "markdown",
   "id": "bac2e5d2",
   "metadata": {},
   "source": [
    "In python, se non diversamente specificato, la copia di un oggetto crea un collegamento in memoria. La mdifica di un oggetto copiato ha effetto anche sull'oggetto di partenza."
   ]
  },
  {
   "cell_type": "code",
   "execution_count": 27,
   "id": "daf5ba00",
   "metadata": {},
   "outputs": [
    {
     "data": {
      "text/plain": [
       "[1, 2, 3, 4]"
      ]
     },
     "execution_count": 27,
     "metadata": {},
     "output_type": "execute_result"
    }
   ],
   "source": [
    "a = [1,2,3,4]\n",
    "a"
   ]
  },
  {
   "cell_type": "code",
   "execution_count": 28,
   "id": "2d94fcbd",
   "metadata": {},
   "outputs": [
    {
     "data": {
      "text/plain": [
       "[1, 2, 3, 4]"
      ]
     },
     "execution_count": 28,
     "metadata": {},
     "output_type": "execute_result"
    }
   ],
   "source": [
    "b = a\n",
    "b"
   ]
  },
  {
   "cell_type": "code",
   "execution_count": 29,
   "id": "5a467d0d",
   "metadata": {},
   "outputs": [
    {
     "data": {
      "text/plain": [
       "[-1, 2, 3, 4]"
      ]
     },
     "execution_count": 29,
     "metadata": {},
     "output_type": "execute_result"
    }
   ],
   "source": [
    "b[0]=-1\n",
    "b"
   ]
  },
  {
   "cell_type": "code",
   "execution_count": 30,
   "id": "31d9e9f7",
   "metadata": {},
   "outputs": [
    {
     "data": {
      "text/plain": [
       "[-1, 2, 3, 4]"
      ]
     },
     "execution_count": 30,
     "metadata": {},
     "output_type": "execute_result"
    }
   ],
   "source": [
    "a"
   ]
  },
  {
   "cell_type": "markdown",
   "id": "ce6f87b0",
   "metadata": {},
   "source": [
    "Per evitare che l'ggetto originale venga modificato bisogna utilizzare l'istruzione `copy`"
   ]
  },
  {
   "cell_type": "code",
   "execution_count": 31,
   "id": "1bc7a281",
   "metadata": {},
   "outputs": [
    {
     "data": {
      "text/plain": [
       "[-1, 2, 3, 4]"
      ]
     },
     "execution_count": 31,
     "metadata": {},
     "output_type": "execute_result"
    }
   ],
   "source": [
    "c = a.copy()\n",
    "c"
   ]
  },
  {
   "cell_type": "code",
   "execution_count": 32,
   "id": "0a566fae",
   "metadata": {},
   "outputs": [
    {
     "data": {
      "text/plain": [
       "[99, 2, 3, 4]"
      ]
     },
     "execution_count": 32,
     "metadata": {},
     "output_type": "execute_result"
    }
   ],
   "source": [
    "c[0] = 99\n",
    "c"
   ]
  },
  {
   "cell_type": "code",
   "execution_count": 33,
   "id": "49e64eb8",
   "metadata": {},
   "outputs": [
    {
     "data": {
      "text/plain": [
       "[-1, 2, 3, 4]"
      ]
     },
     "execution_count": 33,
     "metadata": {},
     "output_type": "execute_result"
    }
   ],
   "source": [
    "a"
   ]
  },
  {
   "cell_type": "markdown",
   "id": "7032996e",
   "metadata": {},
   "source": [
    "#### is or =="
   ]
  },
  {
   "cell_type": "markdown",
   "id": "dac07167",
   "metadata": {},
   "source": [
    "L'istruzione `==` controlla  valore contenuto da una variabile.\n",
    "\n",
    "L'struzione `is` controlla l'oggeto in memoria."
   ]
  },
  {
   "cell_type": "code",
   "execution_count": 34,
   "id": "7f63f6cd",
   "metadata": {},
   "outputs": [],
   "source": [
    "aa = [1,2,3,4]\n",
    "bb = aa\n",
    "cc = aa.copy()"
   ]
  },
  {
   "cell_type": "code",
   "execution_count": 35,
   "id": "7ac5ed0e",
   "metadata": {},
   "outputs": [
    {
     "data": {
      "text/plain": [
       "True"
      ]
     },
     "execution_count": 35,
     "metadata": {},
     "output_type": "execute_result"
    }
   ],
   "source": [
    "aa == bb"
   ]
  },
  {
   "cell_type": "code",
   "execution_count": 36,
   "id": "28b83cbb",
   "metadata": {},
   "outputs": [
    {
     "data": {
      "text/plain": [
       "True"
      ]
     },
     "execution_count": 36,
     "metadata": {},
     "output_type": "execute_result"
    }
   ],
   "source": [
    "aa == cc"
   ]
  },
  {
   "cell_type": "code",
   "execution_count": 37,
   "id": "cb48a778",
   "metadata": {},
   "outputs": [
    {
     "data": {
      "text/plain": [
       "True"
      ]
     },
     "execution_count": 37,
     "metadata": {},
     "output_type": "execute_result"
    }
   ],
   "source": [
    "aa is bb"
   ]
  },
  {
   "cell_type": "code",
   "execution_count": 38,
   "id": "ad5d338b",
   "metadata": {},
   "outputs": [
    {
     "data": {
      "text/plain": [
       "False"
      ]
     },
     "execution_count": 38,
     "metadata": {},
     "output_type": "execute_result"
    }
   ],
   "source": [
    "aa is cc"
   ]
  },
  {
   "cell_type": "code",
   "execution_count": null,
   "id": "e372192e",
   "metadata": {},
   "outputs": [],
   "source": []
  }
 ],
 "metadata": {
  "kernelspec": {
   "display_name": "Python 3 (ipykernel)",
   "language": "python",
   "name": "python3"
  },
  "language_info": {
   "codemirror_mode": {
    "name": "ipython",
    "version": 3
   },
   "file_extension": ".py",
   "mimetype": "text/x-python",
   "name": "python",
   "nbconvert_exporter": "python",
   "pygments_lexer": "ipython3",
   "version": "3.8.10"
  }
 },
 "nbformat": 4,
 "nbformat_minor": 5
}
