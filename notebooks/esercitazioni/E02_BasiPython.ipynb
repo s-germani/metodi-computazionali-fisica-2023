{
 "cells": [
  {
   "cell_type": "markdown",
   "id": "7029dc9d",
   "metadata": {},
   "source": [
    "# Esercitazione sulle Basi di Python"
   ]
  },
  {
   "cell_type": "markdown",
   "id": "1779ffa8",
   "metadata": {},
   "source": [
    "Creare uno script `Python` (file di testo con estensione `.py`) che:\n",
    "1. calcoli la somma dei primi 100 numeri naturali;\n",
    "2. stampi il risultato a schermo;"
   ]
  },
  {
   "cell_type": "markdown",
   "id": "e1397636",
   "metadata": {},
   "source": [
    "Creare uno script `Python` che:\n",
    "1. chieda in input un numero intero `n`;\n",
    "2. stampi a schermo la somma dei primi `n` numeri naturali;"
   ]
  },
  {
   "cell_type": "markdown",
   "id": "60b42ee3",
   "metadata": {},
   "source": [
    "Creare uno script `Python` che:\n",
    "1. chieda in input la vostra data di nascita;\n",
    "2. calcoli la vostra età in anni, giorni e secondi;\n",
    "3. stampi a schermo i risultati con stringhe formattatate in modi che appaiano incolonnati;"
   ]
  }
 ],
 "metadata": {
  "kernelspec": {
   "display_name": "Python 3 (ipykernel)",
   "language": "python",
   "name": "python3"
  },
  "language_info": {
   "codemirror_mode": {
    "name": "ipython",
    "version": 3
   },
   "file_extension": ".py",
   "mimetype": "text/x-python",
   "name": "python",
   "nbconvert_exporter": "python",
   "pygments_lexer": "ipython3",
   "version": "3.8.10"
  }
 },
 "nbformat": 4,
 "nbformat_minor": 5
}
