{
 "cells": [
  {
   "cell_type": "markdown",
   "id": "7029dc9d",
   "metadata": {},
   "source": [
    "# Esercitazione sulle Basi di Python"
   ]
  },
  {
   "cell_type": "markdown",
   "id": "1779ffa8",
   "metadata": {},
   "source": [
    "## Somma primi 100 numeri naturali\n",
    "\n",
    "Creare uno script `Python` (file di testo con estensione `.py`) che:\n",
    "1. calcoli la somma dei primi 100 numeri naturali;\n",
    "2. stampi il risultato a schermo;\n",
    "\n",
    "\n",
    "_Soluzione: somma_100.py_"
   ]
  },
  {
   "cell_type": "markdown",
   "id": "e1397636",
   "metadata": {},
   "source": [
    "## Somma primi N numeri naturali\n",
    "\n",
    "Creare uno script `Python` che:\n",
    "1. chieda in input un numero intero `n`;\n",
    "2. stampi a schermo la somma dei primi `n` numeri naturali;\n",
    "\n",
    "_Soluzione: somma_n.py_"
   ]
  },
  {
   "cell_type": "markdown",
   "id": "60b42ee3",
   "metadata": {},
   "source": [
    "## Calcolo età\n",
    "\n",
    "Creare uno script `Python` che:\n",
    "1. chieda in input la vostra data di nascita;\n",
    "2. calcoli la vostra età in anni, giorni e secondi;\n",
    "3. stampi a schermo i risultati con stringhe formattatate in modo che appaiano incolonnati;\n",
    "per svolgere quetsa parte è necessario familiarizzare con il modulo `datetime`:\n",
    "\n",
    "https://docs.python.org/3/library/datetime.html\n",
    "\n",
    "e in particolare con le funzionalità mostrate negli esempi di seguito:\n"
   ]
  },
  {
   "cell_type": "code",
   "execution_count": 1,
   "id": "8aa37a4a",
   "metadata": {},
   "outputs": [],
   "source": [
    "# import datetime\n",
    "from datetime import datetime, timedelta"
   ]
  },
  {
   "cell_type": "code",
   "execution_count": 2,
   "id": "ebadd15b",
   "metadata": {},
   "outputs": [
    {
     "data": {
      "text/plain": [
       "datetime.datetime(2023, 10, 11, 14, 20, 45, 785040)"
      ]
     },
     "execution_count": 2,
     "metadata": {},
     "output_type": "execute_result"
    }
   ],
   "source": [
    "# data e ora attuale\n",
    "datetime.now()"
   ]
  },
  {
   "cell_type": "code",
   "execution_count": 3,
   "id": "9728c8ec",
   "metadata": {},
   "outputs": [
    {
     "name": "stdout",
     "output_type": "stream",
     "text": [
      "2023\n",
      "14\n",
      "26\n"
     ]
    }
   ],
   "source": [
    "datenow = datetime.now()\n",
    "\n",
    "print(datenow.year)\n",
    "print(datenow.hour)\n",
    "print(datenow.second)"
   ]
  },
  {
   "cell_type": "code",
   "execution_count": 4,
   "id": "27ae000e",
   "metadata": {},
   "outputs": [],
   "source": [
    "# definisco data da stringa formattata giorno-mese-anno\n",
    "mydate_str = '12-9-1920'\n",
    "mydate = datetime.strptime(mydate_str, \"%d-%m-%Y\")"
   ]
  },
  {
   "cell_type": "code",
   "execution_count": 5,
   "id": "6490ce61",
   "metadata": {},
   "outputs": [
    {
     "name": "stdout",
     "output_type": "stream",
     "text": [
      "date: 1920-09-12 00:00:00\n",
      "year: 1920\n",
      "second: 0\n"
     ]
    }
   ],
   "source": [
    "print('date:',       mydate       )\n",
    "print('year:',  mydate.year  )\n",
    "print('second:',mydate.second)"
   ]
  },
  {
   "cell_type": "code",
   "execution_count": 6,
   "id": "dec5b209",
   "metadata": {},
   "outputs": [],
   "source": [
    "# definisco data da stringa formattata includendo l'orario\n",
    "mydatehr_str = '12-9-1920 21:33:45'\n",
    "mydatehr = datetime.strptime(mydatehr_str, \"%d-%m-%Y %H:%M:%S\")"
   ]
  },
  {
   "cell_type": "code",
   "execution_count": 7,
   "id": "0d18431f",
   "metadata": {},
   "outputs": [
    {
     "name": "stdout",
     "output_type": "stream",
     "text": [
      "date: 1920-09-12 21:33:45\n",
      "day: 12\n",
      "hour: 21\n"
     ]
    }
   ],
   "source": [
    "print('date:', mydatehr     )\n",
    "print('day:',  mydatehr.day )\n",
    "print('hour:', mydatehr.hour)"
   ]
  },
  {
   "cell_type": "code",
   "execution_count": 8,
   "id": "06dd992d",
   "metadata": {},
   "outputs": [],
   "source": [
    "# calcolo differenza temporale\n",
    "timediff = datenow - mydate"
   ]
  },
  {
   "cell_type": "code",
   "execution_count": 9,
   "id": "3984ac76",
   "metadata": {},
   "outputs": [
    {
     "data": {
      "text/plain": [
       "datetime.timedelta(days=37649, seconds=51686, microseconds=649740)"
      ]
     },
     "execution_count": 9,
     "metadata": {},
     "output_type": "execute_result"
    }
   ],
   "source": [
    "timediff"
   ]
  },
  {
   "cell_type": "code",
   "execution_count": 10,
   "id": "dcfeabee",
   "metadata": {},
   "outputs": [
    {
     "name": "stdout",
     "output_type": "stream",
     "text": [
      "3252925286.64974\n"
     ]
    }
   ],
   "source": [
    "# Differenza temporale i nsecondi\n",
    "tots = timediff.total_seconds()\n",
    "print(tots)"
   ]
  },
  {
   "cell_type": "markdown",
   "id": "82a7beb4",
   "metadata": {},
   "source": [
    "_Soluzione: myage.py_"
   ]
  },
  {
   "cell_type": "markdown",
   "id": "abf868cc",
   "metadata": {},
   "source": [
    "## Liste e Dizionari"
   ]
  },
  {
   "cell_type": "markdown",
   "id": "b573847e",
   "metadata": {},
   "source": [
    "Creare uno script python che \n",
    "\n",
    "* Crei una lista con i nomi dei giorni della settimana\n",
    "* Crei una lista col nome dei giorni della settimana per tutto il mese di ottobre 2023\n",
    "* Crei un dizionario che metta in relazione il giorno del mese di ottobre 2023 con il giorno della settimana"
   ]
  },
  {
   "cell_type": "markdown",
   "id": "827a924c",
   "metadata": {},
   "source": [
    "_Soluzione: lists.py_"
   ]
  },
  {
   "cell_type": "markdown",
   "id": "fa292053",
   "metadata": {},
   "source": [
    "### Esempi utilizzo liste"
   ]
  },
  {
   "cell_type": "code",
   "execution_count": 11,
   "id": "8cdccb28",
   "metadata": {},
   "outputs": [
    {
     "name": "stdout",
     "output_type": "stream",
     "text": [
      "10 a\n",
      "20 b\n",
      "30 c\n",
      "40 d\n"
     ]
    }
   ],
   "source": [
    "l1 = [10, 20, 30, 40]\n",
    "l2 = ['a', 'b', 'c', 'd']\n",
    "\n",
    "for n,s in zip(l1,l2):\n",
    "    print(n,s)"
   ]
  },
  {
   "cell_type": "code",
   "execution_count": 12,
   "id": "3ec2d0e5",
   "metadata": {},
   "outputs": [
    {
     "data": {
      "text/plain": [
       "[10, 20, 30, 40, 'a', 'b', 'c', 'd']"
      ]
     },
     "execution_count": 12,
     "metadata": {},
     "output_type": "execute_result"
    }
   ],
   "source": [
    "l1+l2"
   ]
  },
  {
   "cell_type": "code",
   "execution_count": 13,
   "id": "a4109c8d",
   "metadata": {},
   "outputs": [
    {
     "data": {
      "text/plain": [
       "[10, 20, 30, 40, 10, 20, 30, 40]"
      ]
     },
     "execution_count": 13,
     "metadata": {},
     "output_type": "execute_result"
    }
   ],
   "source": [
    "l1*2"
   ]
  }
 ],
 "metadata": {
  "kernelspec": {
   "display_name": "Python 3 (ipykernel)",
   "language": "python",
   "name": "python3"
  },
  "language_info": {
   "codemirror_mode": {
    "name": "ipython",
    "version": 3
   },
   "file_extension": ".py",
   "mimetype": "text/x-python",
   "name": "python",
   "nbconvert_exporter": "python",
   "pygments_lexer": "ipython3",
   "version": "3.8.10"
  }
 },
 "nbformat": 4,
 "nbformat_minor": 5
}
