{
 "cells": [
  {
   "cell_type": "markdown",
   "id": "7029dc9d",
   "metadata": {},
   "source": [
    "# Esercitazione sulle Basi di Python"
   ]
  },
  {
   "cell_type": "markdown",
   "id": "1779ffa8",
   "metadata": {},
   "source": [
    "## Somma primi 100 numeri naturali\n",
    "\n",
    "Creare uno script `Python` (file di testo con estensione `.py`) che:\n",
    "1. calcoli la somma dei primi 100 numeri naturali;\n",
    "2. stampi il risultato a schermo;"
   ]
  },
  {
   "cell_type": "markdown",
   "id": "e1397636",
   "metadata": {},
   "source": [
    "## Somma primi N numeri naturali\n",
    "\n",
    "Creare uno script `Python` che:\n",
    "1. chieda in input un numero intero `n`;\n",
    "2. stampi a schermo la somma dei primi `n` numeri naturali;"
   ]
  },
  {
   "cell_type": "markdown",
   "id": "60b42ee3",
   "metadata": {},
   "source": [
    "## Calcolo età\n",
    "\n",
    "Creare uno script `Python` che:\n",
    "1. chieda in input la vostra data di nascita;\n",
    "2. calcoli la vostra età in anni, giorni e secondi;\n",
    "3. stampi a schermo i risultati con stringhe formattatate in modi che appaiano incolonnati;\n",
    "per svolgere quetsa parte è necessario familiarizzare con il modulo `datetime`:\n",
    "\n",
    "https://docs.python.org/3/library/datetime.html\n",
    "\n",
    "e in particolare con le funzionalità mostrate negli'esempi di seguito:\n"
   ]
  },
  {
   "cell_type": "code",
   "execution_count": 32,
   "id": "8aa37a4a",
   "metadata": {},
   "outputs": [],
   "source": [
    "# import datetime\n",
    "from datetime import datetime, timedelta"
   ]
  },
  {
   "cell_type": "code",
   "execution_count": 33,
   "id": "ebadd15b",
   "metadata": {},
   "outputs": [
    {
     "data": {
      "text/plain": [
       "datetime.datetime(2023, 8, 9, 10, 42, 58, 542549)"
      ]
     },
     "execution_count": 33,
     "metadata": {},
     "output_type": "execute_result"
    }
   ],
   "source": [
    "# data e ora attuale\n",
    "datetime.now()"
   ]
  },
  {
   "cell_type": "code",
   "execution_count": 34,
   "id": "9728c8ec",
   "metadata": {},
   "outputs": [
    {
     "name": "stdout",
     "output_type": "stream",
     "text": [
      "2023\n",
      "10\n",
      "58\n"
     ]
    }
   ],
   "source": [
    "datenow = datetime.now()\n",
    "\n",
    "print(datenow.year)\n",
    "print(datenow.hour)\n",
    "print(datenow.second)"
   ]
  },
  {
   "cell_type": "code",
   "execution_count": 35,
   "id": "27ae000e",
   "metadata": {},
   "outputs": [],
   "source": [
    "# definisco data da stringa formattata giorno-mese-anno\n",
    "mydate_str = '12-9-1920'\n",
    "mydate = datetime.strptime(mydate_str, \"%d-%m-%Y\")"
   ]
  },
  {
   "cell_type": "code",
   "execution_count": 36,
   "id": "6490ce61",
   "metadata": {},
   "outputs": [
    {
     "name": "stdout",
     "output_type": "stream",
     "text": [
      "1920-09-12 00:00:00\n",
      "1920\n",
      "0\n"
     ]
    }
   ],
   "source": [
    "print(mydate)\n",
    "print(mydate.year)\n",
    "print(mydate.second)"
   ]
  },
  {
   "cell_type": "code",
   "execution_count": 37,
   "id": "dec5b209",
   "metadata": {},
   "outputs": [],
   "source": [
    "# definisco data da stringa formattata includendo l'orario\n",
    "mydatehr_str = '12-9-1920 21:33:45'\n",
    "mydatehr = datetime.strptime(mydatehr_str, \"%d-%m-%Y %H:%M:%S\")"
   ]
  },
  {
   "cell_type": "code",
   "execution_count": 38,
   "id": "0d18431f",
   "metadata": {},
   "outputs": [
    {
     "name": "stdout",
     "output_type": "stream",
     "text": [
      "1920-09-12 21:33:45\n",
      "12\n",
      "21\n"
     ]
    }
   ],
   "source": [
    "print(mydatehr)\n",
    "print(mydatehr.day)\n",
    "print(mydatehr.hour)"
   ]
  },
  {
   "cell_type": "code",
   "execution_count": 39,
   "id": "06dd992d",
   "metadata": {},
   "outputs": [],
   "source": [
    "# calcolo differenza temporale\n",
    "timediff = datenow - mydate"
   ]
  },
  {
   "cell_type": "code",
   "execution_count": 40,
   "id": "3984ac76",
   "metadata": {},
   "outputs": [
    {
     "data": {
      "text/plain": [
       "datetime.timedelta(days=37586, seconds=38578, microseconds=554216)"
      ]
     },
     "execution_count": 40,
     "metadata": {},
     "output_type": "execute_result"
    }
   ],
   "source": [
    "timediff"
   ]
  },
  {
   "cell_type": "code",
   "execution_count": 41,
   "id": "dcfeabee",
   "metadata": {},
   "outputs": [
    {
     "name": "stdout",
     "output_type": "stream",
     "text": [
      "3247468978.554216\n"
     ]
    }
   ],
   "source": [
    "# Differenza temporale i nsecondi\n",
    "tots = timediff.total_seconds()\n",
    "print(tots)"
   ]
  }
 ],
 "metadata": {
  "kernelspec": {
   "display_name": "Python 3 (ipykernel)",
   "language": "python",
   "name": "python3"
  },
  "language_info": {
   "codemirror_mode": {
    "name": "ipython",
    "version": 3
   },
   "file_extension": ".py",
   "mimetype": "text/x-python",
   "name": "python",
   "nbconvert_exporter": "python",
   "pygments_lexer": "ipython3",
   "version": "3.8.10"
  }
 },
 "nbformat": 4,
 "nbformat_minor": 5
}
