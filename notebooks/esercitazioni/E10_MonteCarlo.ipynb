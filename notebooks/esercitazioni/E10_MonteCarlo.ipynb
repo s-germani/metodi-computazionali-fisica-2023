{
 "cells": [
  {
   "cell_type": "markdown",
   "id": "8625fa3d",
   "metadata": {},
   "source": [
    "# Esercitazione su Metodi Monte Carlo"
   ]
  },
  {
   "cell_type": "markdown",
   "id": "9e166f67",
   "metadata": {},
   "source": [
    "## Esercizio 1 - Diffusione 2D simmetrica\n",
    "\n",
    "1. Produrre un modulo python che definisca una procedura di Random Walk in due dimensioni con le seguenti caratteristiche:\n",
    "    * la diffusione ha un passo costante di lunghezza $s$;\n",
    "    * ad ogni passo lo spostamento può andare con uguale probabilità in ogni direzione (probabilità costante per $\\varphi \\in [0,2\\pi[$ ) con:\n",
    "        * $\\Delta x = s \\cos \\varphi$;\n",
    "        * $\\Delta y = s \\sin \\varphi$;\n",
    "    * Il modulo deve mettere a disposizione una funzione che, data la lunghezza del passo $s$ e il numero di passi $N$, restituisca due array con rispettivamente lo spostamento lungo l'asse $X$ e l'asse $Y$ per ognuno degli $N$ passi.  \n",
    "\n",
    "2. Definire uno script python che importi il modulo precedentemente definito per:\n",
    "    1. produrre un grafico 2D delle posizioni di 5 random walker per 1000 passi;\n",
    "        * SUGGERIMENTO: utilizzare una lista di array o un array 2D;\n",
    "    2. produrre un grafico 2D della posizione di 100 random walker dopo 10, 100 e 1000 passi;\n",
    "    3. prdurre ung grafico con due pannelli che:\n",
    "        * mostri in un pannello lo stesso grafico del punto 1;\n",
    "        * mostri nel secondo pannello la distanza dal punto di partenza in funzione dei passi per gli stessi 5 random walker. "
   ]
  },
  {
   "cell_type": "markdown",
   "id": "2bc5b4e1",
   "metadata": {},
   "source": [
    "## Esercizio 2 - Diffusione 2D asimmetrica\n",
    "\n",
    "1. In uno script seaparato generare una distribuzione random di $\\varphi$ tale che  $p(\\varphi) = \\frac{1}{4} \\sin{\\frac{\\varphi}{2}}$.\n",
    "    * SUGGERIMENTO: utilizzare il metodo della cumulatva;\n",
    "    * SUGGERIMENTO: controllare che il risultato sia corretto attraverso un istogramma dei valori di $\\varphi$ generati (`plt.hist`).\n",
    "2. Modificare il modulo python per la diffusione 2D aggiungendo una funzione analoga a quella precedente ma con probabilità per $\\varphi$ non uniforme:\n",
    "    * $p(\\varphi) = \\frac{1}{4} \\sin{\\frac{\\varphi}{2}}$.    \n",
    "3. Modificare lo script python in modo tale che, attraverso la funzione per la diffusione asimmetrica appena definita, produca:  \n",
    "    * un grafico 2D delle posizioni di 5 random walker per 1000 passi."
   ]
  },
  {
   "cell_type": "markdown",
   "id": "ee31a6ef",
   "metadata": {},
   "source": [
    "### Indizi su calcolo cumulativa\n",
    "\n",
    "$$\n",
    "p(\\varphi) = \\frac{1}{4} \\sin{\\frac{\\varphi}{2}}, \\varphi \\in [0,2\\pi]\n",
    "$$\n",
    "\n",
    "\n",
    "$$\n",
    "C(\\varphi) = \\int_0^{\\varphi} p(\\varphi') d\\varphi' \\in [0,1]\n",
    "$$\n",
    "\n",
    "Per generazione numeri random: \n",
    "$$\n",
    "\\varphi = C^{-1}(s), s \\in [0,1] \n",
    "$$\n",
    "con $s$ uniformemente distribuita nell'intervallo $[0,1]$.\n",
    "\n",
    "\n",
    "\n",
    "\n",
    "#### Passaggi per utilizzare il metodo della cumulativa\n",
    "1. calcolare analiticamente la funzione cumulativa $C(\\varphi)$;\n",
    "2. calcolare analiticamente la funzione inversa della cumulativa $C^{-1}(s)$;\n",
    "3. definire una funzione python corrispondente a $C^{-1}(s)$;\n",
    "4. applicando la funzione appena definita a valori random uniformemente distribuiti nell'intervallo $[0,1]$, si ottengono valori nell'intervallo $[0, 2\\pi]$ con la distribuzione di probabilità voluta: $p(\\varphi)$.\n",
    "\n",
    "\n"
   ]
  },
  {
   "cell_type": "markdown",
   "id": "42990c92",
   "metadata": {},
   "source": [
    "## Esercizio 3 - Andamento Random Walk  2D\n",
    "\n",
    "Utilizzando il modulo precedentemente definito, creare uno script pyton per produrre un grafico della distanza media e della distanza quadratica media per la diffusione simmetrica in funzione del numero di passi;"
   ]
  }
 ],
 "metadata": {
  "kernelspec": {
   "display_name": "Python 3 (ipykernel)",
   "language": "python",
   "name": "python3"
  },
  "language_info": {
   "codemirror_mode": {
    "name": "ipython",
    "version": 3
   },
   "file_extension": ".py",
   "mimetype": "text/x-python",
   "name": "python",
   "nbconvert_exporter": "python",
   "pygments_lexer": "ipython3",
   "version": "3.8.10"
  }
 },
 "nbformat": 4,
 "nbformat_minor": 5
}
