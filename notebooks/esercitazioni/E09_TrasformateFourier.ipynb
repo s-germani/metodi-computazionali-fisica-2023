{
 "cells": [
  {
   "cell_type": "markdown",
   "id": "d594a2ff",
   "metadata": {},
   "source": [
    "# Esercitazione sulle Trasformate di Fourier"
   ]
  },
  {
   "cell_type": "markdown",
   "id": "4890f918",
   "metadata": {},
   "source": [
    "## Dati\n",
    "\n",
    "I dati possono essere scaricati tramite lo script *get_data.py* del pacchetto *get-mcf-data*, dopo aver aggiornato il pacchetto stesso (`git pull`):\n",
    "\n",
    "`python3  get_data.py  --year 2023   --exn 9 --outdir  percrso/cartella/esercitazione`\n",
    "\n",
    "\n",
    "I file di dati scaricati dovrebbero essere:\n",
    "\n",
    "* *SN_m_tot_V2.0.csv*  (Esempio macchie solari visto a lezione)\n",
    "* *data_sample1.csv*   (White - Pink - Red Noise)\n",
    "* *data_sample2.csv*   (White - Pink - Red Noise)\n",
    "* *data_sample3.csv*   (White - Pink - Red Noise)\n",
    "* *4FGL_J2202.7+4216_weekly_9_15_2023_mcf.csv* (Curve di Luce)\n",
    "* *4FGL_J0721.9+7120_weekly_9_15_2023_mcf.csv* (Curve di Luce)\n",
    "* *4FGL_J0428.6-3756_weekly_9_15_2023_mcf.csv* (Curve di Luce)  \n",
    "* *4FGL_J1256.1-0547_weekly_9_15_2023_mcf.csv* (Curve di Luce)\n",
    "* *4FGL_J2253.9+1609_weekly_9_15_2023_mcf.csv* (Curve di Luce)\n",
    "* *4FGL_J2232.6+1143_weekly_9_15_2023_mcf.csv* (Curve di Luce)\n",
    "* *copernicus_PG_selected.csv* (Inquinanti Copernicus)"
   ]
  },
  {
   "cell_type": "markdown",
   "id": "ebe182ed",
   "metadata": {},
   "source": [
    "## Esercizio 1 - White - Pink - Red Noise \n",
    "\n",
    "Diversi tipi di rumore sono identificati da come l'ampiezza delle oscillazioni è legata alla loro frequenza, tale relazione si rispecchia in uno spettro di potenza di pendenza diversa.\n",
    "\n",
    "* Il rumore bianco (*white noise*) ha la stessa ampiezza a tutte le frquenze;\n",
    "* Il rumore rosa (*pink noise*) ha una dipendenza dello spettro di  potenza come $1/f$;\n",
    "* Il rumore rosso (*red noise*), anche detto *brown noise* perchè legato al moto browninano, ha una dipendenza dello spettro di potenza come $1/f^2$. \n",
    "\n",
    "In generale la dipendenza dello spettro di potenza dalla frequenza può essere espressa come $1/f^{\\beta}$.\n",
    "\n",
    "Wikipedia: https://en.wikipedia.org/wiki/Colors_of_noise"
   ]
  },
  {
   "cell_type": "markdown",
   "id": "27f630dd",
   "metadata": {},
   "source": [
    "### Dati"
   ]
  },
  {
   "cell_type": "markdown",
   "id": "950f1167",
   "metadata": {},
   "source": [
    "Vengono messi a disposizione tre file con diversi campioni di rumore:\n",
    "* *data_sample1.csv*\n",
    "* *data_sample2.csv*\n",
    "* *data_sample3.csv*\n",
    "\n",
    "### Richieste\n",
    "Realizzare uno script python che:\n",
    "* Legga i tre file messi a disposizione;\n",
    "* Produca un grafico dei tre segnali di ingresso;\n",
    "* Calcoli la trasformata di Fourier dei segnali di ingreso e produca il grafico dello spettro di potenza;\n",
    "* Faccia il fit dei tre spettri di potenza per determinarne l'andamento in funzione della frequenza e identifichi il tipo di rumore per ogni serie di dati.\n",
    "* Confronti i tre spettri di potenza e i relativi fit\n",
    "\n",
    "Interpretare i risultati conforntando i tre spettri di potenza assieme ai segnali."
   ]
  },
  {
   "cell_type": "markdown",
   "id": "1d17f599",
   "metadata": {},
   "source": [
    "## Esercizio 2 -  Curve di Luce"
   ]
  },
  {
   "cell_type": "markdown",
   "id": "898430f5",
   "metadata": {},
   "source": [
    "Utilizzeremo di nuovo i dati pubblici delle curve di luce del satellite Fermi (NASA):\n",
    "https://fermi.gsfc.nasa.gov/ssc/data/access/lat/LightCurveRepository/\n",
    "\n",
    "In particolare per questa esercitazione sono stati adatattati e messi a disposizoine i dati di 6 sorgenti con un corrispondente numero di file:"
   ]
  },
  {
   "cell_type": "markdown",
   "id": "1871680a",
   "metadata": {},
   "source": [
    "* *4FGL_J2202.7+4216_weekly_9_15_2023_mcf.csv*   ( sorgente *Bl Lac* ,       classe *BLL* )\n",
    "* *4FGL_J0721.9+7120_weekly_9_15_2023_mcf.csv*   ( sorgente *S5 0716+71* ,   classe *BLL* )\n",
    "* *4FGL_J0428.6-3756_weekly_9_15_2023_mcf.csv*   ( sorgente *PKS 0426-380* , classe *BLL* )                 \n",
    "* *4FGL_J1256.1-0547_weekly_9_15_2023_mcf.csv*   ( sorgente *3C 279*   ,     classe *FSRQ* )\n",
    "* *4FGL_J2253.9+1609_weekly_9_15_2023_mcf.csv*   ( sorgente *3C 454.3* ,     classe *FSRQ* )                  \n",
    "* *4FGL_J2232.6+1143_weekly_9_15_2023_mcf.csv*   ( sorgente *CTA 102*  ,     classe *FSRQ* )"
   ]
  },
  {
   "cell_type": "markdown",
   "id": "f80ea303",
   "metadata": {},
   "source": [
    "Le sorgenti selezionate sono Blazar che  appartengono a due sottoclassi diverse: Bl Lac (_BLL_) e Flat Spectrum Radio Quasar (_FSRQ_).  Nell'elenco sopra, per ogni sorgente, oltre al nome del file di dati vengono indicati nome e classe."
   ]
  },
  {
   "cell_type": "markdown",
   "id": "696e0bf0",
   "metadata": {},
   "source": [
    "### Richieste\n",
    "\n",
    "Produrre uno script python che:\n",
    "1. Legga i file di dati e generi un DataFrame pandas per ciascuno di essi;\n",
    "2. Generi un grafico di tutte le curve di luce (Flusso vs Giorno Giuliano) sovrapposte con una legenda che identifichi le sorgenti;\n",
    "3. Generi un unico grafico con 6 pannelli sovrapposti, in ogni pannello deve comparire la curva di luce di una sorgente;\n",
    "    * Usare due colori diversi per BLL e FSRQ;\n",
    "4. Calcoli la trasformata di Fourier delle curve di luce;\n",
    "5. Generi un grafico con gli spettri di potenza delle diverse sorgenti sovrapposti;\n",
    "    * Provare anche a raggruppare BLL e FSRQ per colore;\n",
    "6. Generi un grafico con gli spettri di potenza delle diverse sorgenti sovrapposti e normalizzati ai rispettivi coefficiente di ordine zero;\n",
    "    * Raggruppare BLL e FSRQ per colore;\n",
    "    * Che significato ha la normalizzazione?\n",
    "    * Cosa si può concludere dal risultato?\n",
    "    \n",
    "SUGGERIMENTO: per ottimizzare la scrittura  del codice, provare ad usare un `dictionary` per immagazzinare le informazioni sulle diverse sorgenti in modo da sfruttare i cicli `for` per le diverse operazioni. "
   ]
  },
  {
   "cell_type": "markdown",
   "id": "9297c4af",
   "metadata": {},
   "source": [
    "##  Esercizio 3 - Inquinanti Atmosferici   Copernicus\n",
    "\n",
    "Vengono messi a disposizione  dei dati elaborati a partire dalle misure pubblicamente disponibili grazie al programma Copernicus della UE (https://www.copernicus.eu/it)\n",
    "\n",
    "### Dati \n",
    "I dati sono contenuti nel file *copernicus_PG_selected.csv* e contengono informazioni sulla concentrazione di inquinanti nell'atmosera a Perugia per un periodo di alcuni anni (dopo essere stati elaborati per semplificarne l'utilizzo). \n",
    "\n"
   ]
  },
  {
   "cell_type": "markdown",
   "id": "778005df",
   "metadata": {},
   "source": [
    "### Richieste\n",
    "\n",
    "Scrivere uno script python che:\n",
    "* Legga il file *copernicus_PG_selected.csv*; \n",
    "* Produca un grafico della concentrazione di inquinanti in funzione del tempo;\n",
    "    * Si noti che il tempo è espresso in due modi diversi in altrettante colonne;\n",
    "    * Scegliere il metodo più adatto per rappresentare il tempo;\n",
    "* Analizzi i dati per la *CO* come di seguito:\n",
    "    * Calcoli la trasformata di Fourier della serie temporale;\n",
    "    * Produca un grafico dello spettro di potenza in funzione della frequenza;\n",
    "    * Identifichi eventuali periodicità;\n",
    "    * Produca il grafico dello spettro di potenza in funzione del periodo;\n",
    "    * Applichi un filtro ai coefficienti di Fourier selezionando solo le componenti che descrivono l'andamento generale in funzione del tempo (escludendo futtuazioni di breve periodo);\n",
    "    * Calcoli la trafsformata di Fourier inversa a partire dai coefficienti filtarti;\n",
    "    * Produca un grafico che confronti il segale originale con quello filtrato;\n",
    "* OPZIONALE: Ripeta l'analisi per uno o più degli altri inquinanti e confronti lo spettro di potenza dei diversi inquinanti\n",
    "    \n",
    "    "
   ]
  }
 ],
 "metadata": {
  "kernelspec": {
   "display_name": "Python 3 (ipykernel)",
   "language": "python",
   "name": "python3"
  },
  "language_info": {
   "codemirror_mode": {
    "name": "ipython",
    "version": 3
   },
   "file_extension": ".py",
   "mimetype": "text/x-python",
   "name": "python",
   "nbconvert_exporter": "python",
   "pygments_lexer": "ipython3",
   "version": "3.8.10"
  }
 },
 "nbformat": 4,
 "nbformat_minor": 5
}
