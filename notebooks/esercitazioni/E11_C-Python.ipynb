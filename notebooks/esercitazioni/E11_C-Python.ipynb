{
 "cells": [
  {
   "cell_type": "markdown",
   "id": "83a5f5fe",
   "metadata": {},
   "source": [
    "# C e Python"
   ]
  },
  {
   "cell_type": "markdown",
   "id": "414cc040",
   "metadata": {},
   "source": [
    "## Esercizio 1"
   ]
  },
  {
   "cell_type": "markdown",
   "id": "4ed84bec",
   "metadata": {},
   "source": [
    "La successione di Fibonacci è legata alla sezione aurea: "
   ]
  },
  {
   "cell_type": "markdown",
   "id": "129fd818",
   "metadata": {},
   "source": [
    "$$\n",
    "\\lim_{n \\rightarrow \\inf} \\frac{F_{n+1}}{F_n} = \\varphi\n",
    "$$"
   ]
  },
  {
   "cell_type": "markdown",
   "id": "37479264",
   "metadata": {},
   "source": [
    "I termini $F_n$ della successione di Fibinaci sono numeri interi ricavabili tramite la  seguente regola:\n",
    "\n",
    "$$\n",
    "F_n = \n",
    "\\begin{cases}\n",
    "1  &:& n = 1 \\\\\n",
    "1  &:& n = 2 \\\\\n",
    "F_{n-2}+F_{n-1} &:& n > 2\\\\\n",
    "\\end{cases}\n",
    "$$\n",
    "\n"
   ]
  },
  {
   "cell_type": "markdown",
   "id": "d563045e",
   "metadata": {},
   "source": [
    "### Richieste\n",
    "\n",
    "1. Produrre la libreria condivisa `serie` (`libserie.so`) in cui sia definita la funzione `fibonacci` che:\n",
    "    1. accetti in ingresso il numero intero `n`;\n",
    "    2. calcoli i valori della successione di Fibonacci fino la termine $F_n$ e restitisca il valore $\\frac{F_{n}}{F_{n-1}}$;\n",
    "2. Produrre il modulo  python (`serie.py`)che:\n",
    "    1. tramite `ctypes` usi la libreria condivisa `libserie.so`;\n",
    "    2. definisca la funzione `fibonacci` che a sua volta usi quella della libreria c `serie`;\n",
    "3. Produrre uno script python (`run_serie.py`) che importi il modulo `fibonacci` e usi la corrispondnete funzione `fibonacci`"
   ]
  },
  {
   "cell_type": "markdown",
   "id": "d97ef83a",
   "metadata": {},
   "source": [
    "\n",
    "## Esercizio 2\n",
    "\n",
    "Per questo esercizio è necessario scaricare il file accessorio  `mycamera.c`:\n",
    "1. tramite *get-mcf-data*:\n",
    "    1. assicurarsi che il pacchetto *get-mcf-data* sia aggiornato (`git pull`)\n",
    "    2. eseguire `python3 get-data.py --year 2023 --exn 11 --outdir percorso/cartella/dati`\n",
    "2. oppure direttamente tramte il browser web:\n",
    "    1. https://raw.githubusercontent.com/s-germani/metodi-computazionali-fisica-2023/main/accessori/E11/mycamera.c\n"
   ]
  },
  {
   "cell_type": "markdown",
   "id": "b1b566fa",
   "metadata": {},
   "source": [
    "`mycamera.c` è un file `C` che, una volta compilato correttamente, mette a disposizione una libreria condivisa per l'accesso (emulato) ad una fotocamera CCD per utilizzo astronomico.\n",
    "\n",
    "### Compilazione\n",
    "\n",
    "`gcc -o libmycamera.so   -shared mycamera.c  -lcurl`\n",
    "\n",
    "Nel caso la libreria `curl` non sia disponibile è necessario istallarla prima di compilare:\n",
    "- Su Linux:\n",
    "    1. `sudo apt update`\n",
    "    2. `apt-get install libcurl4-openssl-dev`\n",
    "    \n",
    "Quando la compilazione è andata a buon fine, nella cartella di lavoro dovrebbe essere presente il file della libreria condivisa `libmycamera.so`"
   ]
  },
  {
   "cell_type": "markdown",
   "id": "c13d9daf",
   "metadata": {},
   "source": [
    "### Libreria\n",
    "\n",
    "La libreria condivisa `mycamera` contine la funzione _read_camera_ (`int read_camera(char *buffer)`) che emula l'acquisizione di una immagine con la fotocamera. L'immagine viene restituita in un buffer corrispondente al puntatore ad un array di `char`. \n",
    "\n",
    "Per informazione sulla decodifica dellimmagine esaminare il file `mycamera.c`."
   ]
  },
  {
   "cell_type": "markdown",
   "id": "822dd5f0",
   "metadata": {},
   "source": [
    "### Esercizio 2.1\n",
    "\n",
    "1. Creare un modulo python che definisca la funzione `read_camera`, che a sua volta, tramite `ctypes`, utilizzi la funzione corrispondente della libreria `mycamera`\n",
    "    1. SUGGERIMENTO: il buffer C che conterrà l'immagine deve essere opportunamente dimensionato;\n",
    "    2. SUGGERIMENTO: un buffer di stringhe da utilizzare con le funzioni C può essere creato tramite `ctypes.create_string_buffer` specificando la dimesione opportuna.\n",
    "        - il tipo di dato creato da `ctypes.create_string_buffer`  è: `ctypes.c_char_p`\n",
    "2. Produrre uno script python che utilizzi il modulo precedentemente definito per leggere l'immagine e visulaizzarla;\n",
    "    1. SUGGERIMENTO: il buffer letto dalla fotocamera va opportunamento decodificato per visualizzare l'immagine;\n",
    "        * per convertire le informazioni dell'immagine raw si possono usare due metodi parzialmente alternativi:\n",
    "            1. controllare l'utilizzo del metodo `from_bytes` introdotto nella Lezione 4 sulla rappresentazione numerica;\n",
    "            2. controllare l'utilizzo di shift bitwise introdotto nella Lezione 4 sulla rappresentazione numerica (si sggerisce anche l'utilizzo della funzone `memoryview` (https://docs.python.org/3/c-api/memoryview.html) per accedere ai bytes dell'immagine raw;\n",
    "    2. SUGGERIMENTO: per visulaizzare l'immagine valuatre l'utilizzo di `matplotlib.pyplot.imshow`;"
   ]
  },
  {
   "cell_type": "markdown",
   "id": "55c38343",
   "metadata": {},
   "source": [
    "### Esercizio 2.2\n",
    "\n",
    "Ripetere le attività dell'esercizio 2.1 creando un nuovo modulo che definisce la Classe `myCamera` dove:\n",
    "1. `read_camera` è un metodo della classe;\n",
    "2. i metodi della classe devono permettere:\n",
    "2. la decodifica dell'immagine;\n",
    "3. la visualizzazione dell'mmagine;\n",
    "    1. SUGGERIMENTO: esplorare i valori dell'opzione `norm` di `imshow` per il migliore risultato;\n",
    "    1. SUGGERIMENTO: esplorare i valori dell'opzione `cmap` di `imshow` per visualizzare l'immagine in livelli di grigio;\n",
    "4. il salvataggio dell'iimagine su file (con o senza visualizzare l'mmagine).\n",
    "5. OPZIONALE: permettere di specificare o cambiare la normalizzazione e la scala di colori;"
   ]
  }
 ],
 "metadata": {
  "kernelspec": {
   "display_name": "Python 3 (ipykernel)",
   "language": "python",
   "name": "python3"
  },
  "language_info": {
   "codemirror_mode": {
    "name": "ipython",
    "version": 3
   },
   "file_extension": ".py",
   "mimetype": "text/x-python",
   "name": "python",
   "nbconvert_exporter": "python",
   "pygments_lexer": "ipython3",
   "version": "3.8.10"
  }
 },
 "nbformat": 4,
 "nbformat_minor": 5
}
