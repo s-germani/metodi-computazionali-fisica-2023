{
 "cells": [
  {
   "cell_type": "markdown",
   "id": "d181536a",
   "metadata": {},
   "source": [
    "# Esercitazione su Equazioni e Minimizzazione"
   ]
  },
  {
   "attachments": {},
   "cell_type": "markdown",
   "id": "0545e090",
   "metadata": {},
   "source": [
    "## Scaricare i Dati\n",
    "\n",
    "Per scaricare i dati relativi alle esrcitazioni è stato messo a disposizione uno script python nel repository GitGub dedicato `get-mcf-data`.\n",
    "\n",
    "Ad esempio:\n",
    "`python3  get_data.py --year 2023 --exn 7 --outdir  percrso/cartella/esercitazione`\n",
    "\n",
    "\n",
    "Il comando dovrebbe scarocare il file `fit_data.csv`  nella cartella designata."
   ]
  },
  {
   "cell_type": "markdown",
   "id": "989dad35",
   "metadata": {},
   "source": [
    "## Minimizzazione"
   ]
  },
  {
   "cell_type": "markdown",
   "id": "b5722270",
   "metadata": {},
   "source": [
    "#### Fit di una serie di dati\n",
    "1. il file di dati `fit_data.csv` contiene dei valori per le variabili `x` e `y`;\n",
    "    1. i valori di $y$ possono essere considerati dei conteggi e seguono la statistica poissoniana;\n",
    "    2. si può ipotizzare che i dati rappresentino una curva lognormale (gaussiana nel logaritmo dei valori di $x$);\n",
    "2. creare uno script python che:\n",
    "    1. legga il file di dati `fit_data.csv`;\n",
    "    2. produca un grafico di $y$ in funzione di $x$ nella forma più appropriata;\n",
    "3. creare un secondo  script python che:\n",
    "    1. definisca una funzione lognormale da usare per il fit dei dati;\n",
    "    2. legga il file di dati `fit_data.csv`;\n",
    "    3. esegua il fit dei dati con la funzione lognormale;\n",
    "    4. produca il grafico della funzione di fit ottimizzata sovrapposta ai dati;\n",
    "    5. stampi il valore dei parametri del fit e del chi quadrato;\n",
    "\n",
    "*SUGGERIMENTO*: esplorare la possibilità di mostrare uno o entrambi gli assi dei grafici in maniera logaritmica.\n",
    "\n",
    "\n",
    "#### Funzione lognormale\n",
    "\n",
    "$$\n",
    "f(x) = A \\times e^{-\\frac{\\left(ln(x) - l_0\\right)^2}{s^2}}\n",
    "$$"
   ]
  }
 ],
 "metadata": {
  "kernelspec": {
   "display_name": "Python 3 (ipykernel)",
   "language": "python",
   "name": "python3"
  },
  "language_info": {
   "codemirror_mode": {
    "name": "ipython",
    "version": 3
   },
   "file_extension": ".py",
   "mimetype": "text/x-python",
   "name": "python",
   "nbconvert_exporter": "python",
   "pygments_lexer": "ipython3",
   "version": "3.8.10"
  }
 },
 "nbformat": 4,
 "nbformat_minor": 5
}
