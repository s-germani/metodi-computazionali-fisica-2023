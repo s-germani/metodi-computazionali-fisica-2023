{
 "cells": [
  {
   "cell_type": "markdown",
   "id": "1b338970",
   "metadata": {},
   "source": [
    "# Esercitazione su Moduli Python in Ambito Scientifico"
   ]
  },
  {
   "cell_type": "markdown",
   "id": "411d86e1",
   "metadata": {},
   "source": [
    "1. Produrre uno script pyton che crei degli array `numpy` li inserisca in un dataframe `pandas` e salvi i dati in fromato `csv`. Gli array da generare sono 5:\n",
    "    1. array corrispondnete ai giorni in un mese (1-30);\n",
    "    2. 2 array corrispondneti alla temperatura media del giorno e al relativo errore;\n",
    "    3. 2 array corrispondneti ai mm di pioggia del giorno e al relativo errore.\n",
    "2. Creare un secondo script python che legga il file `csv` precededentemente salvato e produca i seguenti grafici:\n",
    "    1. grafico di temepratura in funzione del giorno,  senza errori;\n",
    "    2. grafico dei mm di pioggia in funzione del giorno, con  errori;\n",
    "    2. grafico di temperatura e pioggia in funzione del giorno, su pannelli diversi, con errori;\n",
    "    3. scatter plot dei mm di pioggia in funzione della temepratura.\n",
    "3. Generare un secondo file `csv` con con contenuto analogo al primo ma valori diversi e creare uno script python che prduca i seguenti grafici:\n",
    "    1. grafico delle temeprature in funzione del giorno del mese,  con errori e legenda;\n",
    "    2. grafico di temperature e pioggia in funzione del giorno, su pannelli diversi, con errori e legenda;\n",
    "4. Se rimane tempo, provare a variare estetica e dettagli dei grafici realizzati"
   ]
  }
 ],
 "metadata": {
  "kernelspec": {
   "display_name": "Python 3 (ipykernel)",
   "language": "python",
   "name": "python3"
  },
  "language_info": {
   "codemirror_mode": {
    "name": "ipython",
    "version": 3
   },
   "file_extension": ".py",
   "mimetype": "text/x-python",
   "name": "python",
   "nbconvert_exporter": "python",
   "pygments_lexer": "ipython3",
   "version": "3.8.10"
  }
 },
 "nbformat": 4,
 "nbformat_minor": 5
}
