{
 "cells": [
  {
   "cell_type": "markdown",
   "id": "1b338970",
   "metadata": {},
   "source": [
    "# Esercitazione su Moduli Python in Ambito Scientifico"
   ]
  },
  {
   "cell_type": "markdown",
   "id": "38569fc4",
   "metadata": {},
   "source": [
    "Per alcune esercitazioni vengino usati dei dati disponibili nel repositori github legato al corso.\n",
    "\n",
    "### Accesso ai Dati\n",
    "\n",
    "I dati possono essere scaricati tramite lo script *get_data.py* del pacchetto *get-mcf-data*: https://github.com/s-germani/get-mcf-data.\n",
    "\n",
    "#### Scaricare il pacchetto _get-mcf-data_\n",
    "Per scaricare il pacchetto seguire i seguienti passi:\n",
    "1. spostarsi in una cartella separata (non all'interno di cartelle di pertinenza di altri repository git); \n",
    "2. fare il `clone` del repository con il comando:  `git clone https://github.com/s-germani/get-mcf-data.git`;\n",
    "3. verificare che sia stata creata la cartella `get-mcf-data` e spostarsi al suo interno;\n",
    "4. verifcare che sia stato scaricato il file `get_data.py`.\n",
    "\n",
    "E' disponibile una opzione `--help`, nella cartella del pacchetto `get-mcf-data` eseguire:\n",
    "`python3  get_data.py --help`.\n",
    "\n",
    "Si consiglia di leggere anche il README del pacchetto.\n",
    "\n",
    "\n",
    "#### Scaricare i dati\n",
    "\n",
    "Assicurarsi di essere nella cartella del pacchetto `get-mcf-data` e **dopo** ave adattato le opzioni necessarie come il **percorso** per i file salvati, eseguire un comando come di seguito,:\n",
    "\n",
    "`python3  get_data.py --year 2023 --exn 3 --outdir  percrso/cartella/esercitazione`\n",
    "\n"
   ]
  },
  {
   "cell_type": "markdown",
   "id": "f0263e3a",
   "metadata": {},
   "source": [
    "Il file di dati scaricati dovrebbero essere:\n",
    "* _4FGL_J2202.7+4216_weekly_9_11_2023.csv_\n",
    "* _4LAC_DR2_sel.csv_"
   ]
  },
  {
   "cell_type": "markdown",
   "id": "a82260bf",
   "metadata": {},
   "source": [
    "## Esercizio 1 - Lettura file CSV e produzione grafici di Flusso in funzione del Tempo \n",
    "    "
   ]
  },
  {
   "cell_type": "markdown",
   "id": "28103e0b",
   "metadata": {},
   "source": [
    "Per il primo esercizio useremo dei dati messi a disposizione dalla NASA sul flusso di sorgenti astrofisiche di raggi gamma in funzione del tempo misurato dal telescopio spaziale Fermi."
   ]
  },
  {
   "cell_type": "markdown",
   "id": "ad0e7e14",
   "metadata": {},
   "source": [
    "#### Dati Originali\n",
    "Link al portale con i dati (Curve di Luce): https://fermi.gsfc.nasa.gov/ssc/data/access/lat/LightCurveRepository/\n",
    "\n",
    "Link ai dati della sorgente selezionata (Bl Lac): https://fermi.gsfc.nasa.gov/ssc/data/access/lat/LightCurveRepository/source.html?source_name=4FGL_J2202.7+4216#"
   ]
  },
  {
   "cell_type": "markdown",
   "id": "1e016514",
   "metadata": {},
   "source": [
    "#### File di Dati\n",
    "Il file di dati da utilizzare è `4FGL_J2202.7+4216_weekly_9_11_2023.csv`, che è una versione leggermente semplificata di quello che si può scaricare direttamente dal portale."
   ]
  },
  {
   "cell_type": "markdown",
   "id": "b8a9caa5",
   "metadata": {},
   "source": [
    "#### Giorno Giuliano\n",
    "https://it.wikipedia.org/wiki/Giorno_giuliano\n"
   ]
  },
  {
   "cell_type": "markdown",
   "id": "e6773fb1",
   "metadata": {},
   "source": [
    "### Richieste\n",
    "Creare uno script python che: \n",
    "1. legga il file `4FGL_J2202.7+4216_weekly_9_11_2023.csv` e crei il DtaFrame _pandas_ corrispondente;\n",
    "2. stampi il nome delle colonne del DataFrame;\n",
    "3. produca un grafico del flusso in funzione del Giorno Giuliano (Julian Date) \n",
    "    * suggerimento: usare `pyplot.plot`;\n",
    "4. produca un grafico del flusso in funzione del Giorno Giuliano coi punti del grafico demarcati da un simbolo;\n",
    "    * suggerimento: usare `pyplot.plot` con opzione `'o'` o equivalente;\n",
    "5. produca un grafico del flusso in funzione del Giorno Giuliano con barre di errore e salvi il risultato in un file png e/o pdf;\n",
    "    * suggerimento: usare `pyplot.errorbar`;\n",
    "6. produca un grafico simile al precedente con  asse y logaritmico  e  salvi il risultato in un file png e/o pdf;  "
   ]
  },
  {
   "cell_type": "markdown",
   "id": "ea9cd810",
   "metadata": {},
   "source": [
    "**Soluzione:** _read_and_plot1.py_ "
   ]
  },
  {
   "cell_type": "markdown",
   "id": "76c8b548",
   "metadata": {},
   "source": [
    "## Esercizio 2 - Lettura file CSV e produzione Scatter Plot e Istogrammi"
   ]
  },
  {
   "cell_type": "markdown",
   "id": "3e6063c8",
   "metadata": {},
   "source": [
    "Per il secondo esercizio useremo un catalogo di sorgenti astrofisiche messo a disposizione di nuovo  dalla NASA.\n",
    "\n",
    "Catalogo 4LAC: https://fermi.gsfc.nasa.gov/ssc/data/access/lat/4LACDR2/\n",
    "\n",
    "Il catalogo originale è in formato `fits`, il cui utilizzo va oltre lo scopo di questo corso. Una parte delle informazioni rilevanti  è stata estratta e salvata in formato `csv` nel file messo a diposizione per questa esercitazione: `4LAC_DR2_sel.csv`. "
   ]
  },
  {
   "cell_type": "markdown",
   "id": "4d0001b5",
   "metadata": {},
   "source": [
    "### Richieste\n",
    "Creare un secondo script python che: \n",
    "1. legga il file `4LAC_DR2_sel.csv` e crei il DtaFrame _pandas_ corrispondente;\n",
    "2. stampi il nome delle colonne del DataFrame;\n",
    "3. stampi un estratto del contenuto del DataFrame;\n",
    "4. produca un grafico dell'indice spettrale (`PL_Index`) in funzione del flusso (`Flux1000`);\n",
    "    * suggerimento: usare `pyplot.scatter`;\n",
    "5. produca un grafico dell'indice spettrale (`PL_Index`) in funzione del flusso (`Flux1000`) con asse x logaritmico;\n",
    "6. produca un grafico dell'indice spettrale (`PL_Index`) in funzione del logaritmo in base 10 della variabile `nu_syn`;\n",
    "7. produca un grafico dell'indice spettrale (`PL_Index`) in funzione del logaritmo in base 10 della variabile `nu_syn` distinguendo le sorgenti di classe (`CLASS`) `bll` e `fsrq` con la corrispondente legenda (gli altri tipi di sorgente non vanno considerate nel grafico);\n",
    "    * suggerimento: usare `.loc` per la serezione dei valori nel DataFrame;\n",
    "    * suggerimento: usare l'opzione `alpha` per la trasparenza;\n",
    "8. produca un grafico analogo a quello del punto 7 ma che mostri anche l'incertezza sulla stima dell'indice spettrale (`Unc_PL_Index`);\n",
    "    * suggerimento: usare `pyplot.errorbar`;\n",
    "9. produca l'istogramma sovrapposto dell'indice spettrale per le sorgent di tipo `bll` e `fsrq` con la relativa legenda;\n",
    "    * suggerimento: usare `pyplot.hist` definendo lo stesso numero di bin e lo stesso intervallo per l'asse x;\n",
    "    * suggerimento: usare l'opzione `alpha` per la trasparenza;\n",
    "10. produca un grafico analogo al precedente per il logaritmo in base 10 del valore `nu_syn`."
   ]
  },
  {
   "cell_type": "markdown",
   "id": "e6970a9f",
   "metadata": {},
   "source": [
    "#### Unità\n",
    "* Flusso: $fotoni \\; cm^{-2} s^{-1}$\n",
    "* Frequenza di picco `nu_syn`: $Hz$\n",
    "    "
   ]
  },
  {
   "cell_type": "markdown",
   "id": "b9152088",
   "metadata": {},
   "source": [
    "**Soluzione:** _read_and_plot2.py_ "
   ]
  }
 ],
 "metadata": {
  "kernelspec": {
   "display_name": "Python 3 (ipykernel)",
   "language": "python",
   "name": "python3"
  },
  "language_info": {
   "codemirror_mode": {
    "name": "ipython",
    "version": 3
   },
   "file_extension": ".py",
   "mimetype": "text/x-python",
   "name": "python",
   "nbconvert_exporter": "python",
   "pygments_lexer": "ipython3",
   "version": "3.8.10"
  }
 },
 "nbformat": 4,
 "nbformat_minor": 5
}
