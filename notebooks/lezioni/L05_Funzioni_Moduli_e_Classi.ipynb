{
 "cells": [
  {
   "cell_type": "markdown",
   "id": "330c2e78",
   "metadata": {},
   "source": [
    "# Funzioni,  Moduli e Classi"
   ]
  },
  {
   "cell_type": "code",
   "execution_count": 1,
   "id": "d1d3dce2",
   "metadata": {},
   "outputs": [],
   "source": [
    "import sys,os"
   ]
  },
  {
   "cell_type": "markdown",
   "id": "298a1491",
   "metadata": {},
   "source": [
    "## Funzioni in Python\n",
    "\n",
    "Un blocco di codice che vinene utilizzato più volte dovrebbe essere incluso in una funzione. \n",
    "\n",
    "* Un funzione è definita tramite la *keyword* `def` seguita dal nome della funzione stessa;\n",
    "* Il codice che va racchiuso in una funzione deve essere indentanto;\n",
    "* Il codice contenuto in  una funzione non viene eseguito al momento della definizione ma quando la funzione stessa viene richiamata;\n",
    "* Una funzione può accettare zero, uno o più parametri in ingresso;\n",
    "* Una funzione python può, opzionalmente restituire, uno o più valori o oggetti in uscita."
   ]
  },
  {
   "cell_type": "code",
   "execution_count": 2,
   "id": "86e117e2",
   "metadata": {},
   "outputs": [],
   "source": [
    "# Definisco la funzione ciao\n",
    "def ciao():\n",
    "    print('CIAO')"
   ]
  },
  {
   "cell_type": "code",
   "execution_count": 3,
   "id": "b58af9e9",
   "metadata": {},
   "outputs": [
    {
     "name": "stdout",
     "output_type": "stream",
     "text": [
      "CIAO\n"
     ]
    }
   ],
   "source": [
    "# Eseguo la funzione ciao\n",
    "ciao()"
   ]
  },
  {
   "cell_type": "code",
   "execution_count": 4,
   "id": "509caad3",
   "metadata": {},
   "outputs": [],
   "source": [
    "# Funzopne con 1 parametro in ingresso\n",
    "def nciao(n):\n",
    "    for i in range(n):\n",
    "        print('CIAO',i+1)"
   ]
  },
  {
   "cell_type": "code",
   "execution_count": 5,
   "id": "75b88a16",
   "metadata": {},
   "outputs": [
    {
     "name": "stdout",
     "output_type": "stream",
     "text": [
      "CIAO 1\n",
      "CIAO 2\n",
      "CIAO 3\n",
      "CIAO 4\n"
     ]
    }
   ],
   "source": [
    "nciao(4)"
   ]
  },
  {
   "cell_type": "code",
   "execution_count": 6,
   "id": "ebedb14b",
   "metadata": {},
   "outputs": [],
   "source": [
    "# Funzopne con 1 parametro in ingresso che restituisce un valore in uscita\n",
    "def quadrato(x):\n",
    "    return x**2"
   ]
  },
  {
   "cell_type": "code",
   "execution_count": 7,
   "id": "31628747",
   "metadata": {},
   "outputs": [
    {
     "name": "stdout",
     "output_type": "stream",
     "text": [
      "9\n"
     ]
    }
   ],
   "source": [
    "print( quadrato(3))"
   ]
  },
  {
   "cell_type": "code",
   "execution_count": 8,
   "id": "c723845b",
   "metadata": {},
   "outputs": [
    {
     "name": "stdout",
     "output_type": "stream",
     "text": [
      "9\n"
     ]
    }
   ],
   "source": [
    "# Immagazzino il valore restituito daal funzione quadrato in q3\n",
    "q3 = quadrato(3)\n",
    "print(q3)"
   ]
  },
  {
   "cell_type": "code",
   "execution_count": 9,
   "id": "8089c0f4",
   "metadata": {},
   "outputs": [],
   "source": [
    "# Funzione quadrato assegnata come oggetto\n",
    "qq  = quadrato"
   ]
  },
  {
   "cell_type": "code",
   "execution_count": 10,
   "id": "9d4c2e17",
   "metadata": {},
   "outputs": [
    {
     "data": {
      "text/plain": [
       "9"
      ]
     },
     "execution_count": 10,
     "metadata": {},
     "output_type": "execute_result"
    }
   ],
   "source": [
    "qq(3)"
   ]
  },
  {
   "cell_type": "code",
   "execution_count": 11,
   "id": "b4e9bc35",
   "metadata": {},
   "outputs": [],
   "source": [
    "# Funzione con 3 parametri in ingresso\n",
    "def myf(a,b,c):\n",
    "    return a+b+c"
   ]
  },
  {
   "cell_type": "code",
   "execution_count": 12,
   "id": "1851ae11",
   "metadata": {},
   "outputs": [
    {
     "data": {
      "text/plain": [
       "6"
      ]
     },
     "execution_count": 12,
     "metadata": {},
     "output_type": "execute_result"
    }
   ],
   "source": [
    "myf(1,2,3)"
   ]
  },
  {
   "cell_type": "code",
   "execution_count": 13,
   "id": "724f7518",
   "metadata": {},
   "outputs": [
    {
     "ename": "TypeError",
     "evalue": "myf() missing 1 required positional argument: 'c'",
     "output_type": "error",
     "traceback": [
      "\u001b[0;31m---------------------------------------------------------------------------\u001b[0m",
      "\u001b[0;31mTypeError\u001b[0m                                 Traceback (most recent call last)",
      "Cell \u001b[0;32mIn [13], line 1\u001b[0m\n\u001b[0;32m----> 1\u001b[0m \u001b[43mmyf\u001b[49m\u001b[43m(\u001b[49m\u001b[38;5;241;43m1\u001b[39;49m\u001b[43m,\u001b[49m\u001b[38;5;241;43m2\u001b[39;49m\u001b[43m)\u001b[49m\n",
      "\u001b[0;31mTypeError\u001b[0m: myf() missing 1 required positional argument: 'c'"
     ]
    }
   ],
   "source": [
    "myf(1,2)"
   ]
  },
  {
   "cell_type": "code",
   "execution_count": null,
   "id": "ff172ea5",
   "metadata": {},
   "outputs": [],
   "source": [
    "# Funzione con tre parametri in ingresso\n",
    "# il parametro c ha un valore di default che assume se non altrimenti  specificato\n",
    "def myf2(a,b,c=1):\n",
    "    return a+b+c"
   ]
  },
  {
   "cell_type": "code",
   "execution_count": null,
   "id": "e71c5520",
   "metadata": {},
   "outputs": [],
   "source": [
    "myf2(1,2)"
   ]
  },
  {
   "cell_type": "code",
   "execution_count": null,
   "id": "4d93a1c5",
   "metadata": {},
   "outputs": [],
   "source": [
    "myf2(1,2,3)"
   ]
  },
  {
   "cell_type": "code",
   "execution_count": null,
   "id": "96d73d11",
   "metadata": {},
   "outputs": [],
   "source": [
    "# Funzopne con 2 parametri in ingresso e due  valori in uscita\n",
    "def sumprod(a,b):\n",
    "    return a+b, a*b"
   ]
  },
  {
   "cell_type": "code",
   "execution_count": null,
   "id": "14af1960",
   "metadata": {},
   "outputs": [],
   "source": [
    "s, p = sumprod(1,2)\n",
    "print('somma   ',s)\n",
    "print('prodotto',p)"
   ]
  },
  {
   "cell_type": "code",
   "execution_count": null,
   "id": "94b4dea3",
   "metadata": {},
   "outputs": [],
   "source": [
    "sp = sumprod(1,2)\n",
    "print('sp      ', sp)\n",
    "print('somma   ', sp[0])\n",
    "print('prodotto', sp[1])"
   ]
  },
  {
   "cell_type": "markdown",
   "id": "6a019764",
   "metadata": {},
   "source": [
    "### args, kwargs\n",
    "\n",
    "Oltre ai paramatri specificati direttamente, una funzione può avere:\n",
    "* un numero indefinito di parametri posizionali raggruppati in un ntupla attraverso la forma speciale `*args`;\n",
    "* un numero indefinito di parametri identificati da chiavi *keywords* e raggruppati attravreso un *dictionary*; nella forma speciale `**kwargs`."
   ]
  },
  {
   "cell_type": "code",
   "execution_count": null,
   "id": "d9e8c163",
   "metadata": {},
   "outputs": [],
   "source": [
    "# Funzione con indefiniti  paramtri posizionali \n",
    "def myargsf(*args):\n",
    "    print(args)"
   ]
  },
  {
   "cell_type": "code",
   "execution_count": null,
   "id": "8e9c51c5",
   "metadata": {},
   "outputs": [],
   "source": [
    "myargsf(1,2,'ciao')"
   ]
  },
  {
   "cell_type": "code",
   "execution_count": null,
   "id": "896c164b",
   "metadata": {},
   "outputs": [],
   "source": [
    "def myargsf2(*args):\n",
    "    sum = 0\n",
    "    if len(args)> 0 :\n",
    "        sum = args[0]\n",
    "    if len(args)> 1:\n",
    "        sum = sum + args[1] \n",
    "    if len(args) > 2:\n",
    "        print(args[2])\n",
    "        \n",
    "    return sum"
   ]
  },
  {
   "cell_type": "code",
   "execution_count": null,
   "id": "2b8ffc59",
   "metadata": {},
   "outputs": [],
   "source": [
    "myargsf2(1,2,'ciao')"
   ]
  },
  {
   "cell_type": "code",
   "execution_count": null,
   "id": "1cbc7fc0",
   "metadata": {},
   "outputs": [],
   "source": [
    "# Funzione con parametri identificati da keywords \n",
    "def mykargsf(**kwargs):\n",
    "    print(kwargs)"
   ]
  },
  {
   "cell_type": "code",
   "execution_count": null,
   "id": "9aa2810e",
   "metadata": {},
   "outputs": [],
   "source": [
    "mykargsf(x=1, y=2, z=3)"
   ]
  },
  {
   "cell_type": "code",
   "execution_count": null,
   "id": "8ecad8b5",
   "metadata": {},
   "outputs": [],
   "source": [
    "# Funzione con parametri identificati da keywords \n",
    "def mykargsf2(**kwargs):\n",
    "    sum = 0  \n",
    "    for key, value in kwargs.items():\n",
    "        print(\"The value of {} is {}\".format(key, value))\n",
    "        if key == 'x':\n",
    "            sum = sum + value\n",
    "        elif key == 'y':\n",
    "            sum = sum + 2*value\n",
    "        elif key == 'z':\n",
    "            sum = sum + 0.5*value\n",
    "    return sum"
   ]
  },
  {
   "cell_type": "code",
   "execution_count": null,
   "id": "a7350d2d",
   "metadata": {},
   "outputs": [],
   "source": [
    "mykargsf2(x=1, y=2, z=3, w=5)"
   ]
  },
  {
   "cell_type": "code",
   "execution_count": null,
   "id": "8c0c2e80",
   "metadata": {},
   "outputs": [],
   "source": [
    "def print_all_args(**kwargs):\n",
    "    print(kwargs)\n",
    "\n",
    "# Funzione con parametri posizionali definiti e parametri identificati da keywords \n",
    "def myff(a, b, **kwargs):\n",
    "    sum = a + b\n",
    "    print_all_args(**kwargs)\n",
    "    print_all_args(a=a, b=b, **kwargs)\n",
    "    return sum\n",
    "    "
   ]
  },
  {
   "cell_type": "code",
   "execution_count": null,
   "id": "2a4e3f8c",
   "metadata": {},
   "outputs": [],
   "source": [
    "mysum = myff(2,4, c=10, d=11, e=12)"
   ]
  },
  {
   "cell_type": "code",
   "execution_count": null,
   "id": "fe70669a",
   "metadata": {},
   "outputs": [],
   "source": [
    "print('mysum', mysum)"
   ]
  },
  {
   "cell_type": "markdown",
   "id": "d19358d9",
   "metadata": {},
   "source": [
    "### Docstring\n",
    "\n",
    "Una corretta definizione di una funzione dovrebbe includere una *docstring*.\n",
    "\n",
    "Ci sono delle convenzoni da seguire per un'apprpriata definizione:\n",
    "- https://peps.python.org/pep-0257/\n",
    "- https://numpydoc.readthedocs.io/en/latest/format.html#docstring-standard"
   ]
  },
  {
   "cell_type": "code",
   "execution_count": null,
   "id": "532820c0",
   "metadata": {},
   "outputs": [],
   "source": [
    "def decay(x, N, tau):\n",
    "    \"\"\"\n",
    "    Funzione che descrive il numero di particelle o nuclei insatbili nel tempo\n",
    "    \n",
    "    Parametri\n",
    "    -----------\n",
    "        N:   numero di particelle iniziali \n",
    "        tau: costante di decadimento (vita media)\n",
    "    \n",
    "    Restituisce\n",
    "    -----------\n",
    "         N*e^-(x/tau) \n",
    "    \"\"\"\n",
    "    \n",
    "    return N*np.exp(-x/tau)"
   ]
  },
  {
   "cell_type": "code",
   "execution_count": null,
   "id": "9553b1b8",
   "metadata": {},
   "outputs": [],
   "source": [
    "decay"
   ]
  },
  {
   "cell_type": "code",
   "execution_count": null,
   "id": "6cdca911",
   "metadata": {},
   "outputs": [],
   "source": [
    "decay.__doc__"
   ]
  },
  {
   "cell_type": "code",
   "execution_count": null,
   "id": "d9c8acfa",
   "metadata": {},
   "outputs": [],
   "source": [
    "help(decay)"
   ]
  },
  {
   "cell_type": "markdown",
   "id": "5f77a2d9",
   "metadata": {},
   "source": [
    "## Moduli"
   ]
  },
  {
   "cell_type": "markdown",
   "id": "974e0662",
   "metadata": {},
   "source": [
    "Un *modulo* in python è un file contenente funzioni e definizioni.\n",
    "\n",
    "Se il file si chiama `mymodule.py` potrò importare il modulo `mymodule` ed utilizzare il suo contenuto."
   ]
  },
  {
   "cell_type": "markdown",
   "id": "ffabac2d",
   "metadata": {},
   "source": [
    "Partiamo dall'esempio di un file chiamto `caduta.py`:\n",
    "\n",
    "```\n",
    "g = 9.81\n",
    "\n",
    "def v(t):\n",
    "    return g*t\n",
    "    \n",
    "def h(h0, t):\n",
    "    return h0 -0.5 *g*t**2\n",
    "\n",
    "```"
   ]
  },
  {
   "cell_type": "code",
   "execution_count": null,
   "id": "63d01629",
   "metadata": {},
   "outputs": [],
   "source": [
    "# Aggiungo la cartella del modulo al path python \n",
    "# in alternativa si può settare la variabile ambientale da terminale\n",
    "#   export PYTHONTAH=$PYTHONPATH:/percorso/modulo\n",
    "sys.path.append('../../accessori/L05')"
   ]
  },
  {
   "cell_type": "code",
   "execution_count": null,
   "id": "4d86109b",
   "metadata": {},
   "outputs": [],
   "source": [
    "sys.path"
   ]
  },
  {
   "cell_type": "code",
   "execution_count": null,
   "id": "b3889889",
   "metadata": {},
   "outputs": [],
   "source": [
    "import caduta"
   ]
  },
  {
   "cell_type": "code",
   "execution_count": null,
   "id": "b82a4c91",
   "metadata": {},
   "outputs": [],
   "source": [
    "caduta.g"
   ]
  },
  {
   "cell_type": "code",
   "execution_count": null,
   "id": "a7f5f363",
   "metadata": {},
   "outputs": [],
   "source": [
    "caduta.v(7)"
   ]
  },
  {
   "cell_type": "markdown",
   "id": "6adb6f62",
   "metadata": {},
   "source": [
    "Il file contente il mdulo può essere anche eseguito direttamente, in questo caso è necessario aggiungere il controllo:\n",
    "\n",
    "`if __name__ == \"__main__\":`\n",
    "\n",
    "Di seguito la versione aggiornata del contenuto del file `caduta.py`:\n",
    "\n",
    "\n",
    "```\n",
    "import sys\n",
    "\n",
    "g = 9.81\n",
    "\n",
    "def v(t):\n",
    "    \"\"\"\n",
    "    Funzione che restituisce la velocità al tempo t\n",
    "\n",
    "    return g*t\n",
    "    \"\"\"\n",
    "    return g*t\n",
    "\n",
    "def s(t):\n",
    "    \"\"\"\n",
    "    Funzione che restituisce lo spazio percorso al tempo t\n",
    "\n",
    "    return 0.5 *g*t^2\n",
    "    \"\"\"\n",
    "\n",
    "    return 0.5 *g*t**2\n",
    "\n",
    "def h(h0, t):\n",
    "    \"\"\"\n",
    "    Funzione che restituisce la quota al tempo t con quota di partenza h0\n",
    "    \n",
    "    return h0 -0.5 *g*t^2\n",
    "    \"\"\"\n",
    "\n",
    "    return h0 -0.5 *g*t**2\n",
    "\n",
    "\n",
    "if __name__ == \"__main__\":\n",
    "\n",
    "    t = float(sys.argv[1])\n",
    "    print('v({:}) = {:}'.format(t, v(t)))\n",
    "    print('s({:}) = {:}'.format(t, s(t)))\n",
    "```"
   ]
  },
  {
   "cell_type": "code",
   "execution_count": null,
   "id": "0fa3a7a4",
   "metadata": {},
   "outputs": [],
   "source": [
    "# os.system permette di eseguire comandi di systema\n",
    "# contenuto cartella /usr\n",
    "os.system('ls /usr');"
   ]
  },
  {
   "cell_type": "code",
   "execution_count": null,
   "id": "4de739e9",
   "metadata": {},
   "outputs": [],
   "source": [
    "# Eseguo il comando shell da python\n",
    "cmd = 'python3 ../../accessori/L05/caduta.py 2'\n",
    "err = os.system(cmd)"
   ]
  },
  {
   "cell_type": "code",
   "execution_count": null,
   "id": "4b1b22bb",
   "metadata": {},
   "outputs": [],
   "source": [
    "help(caduta)"
   ]
  },
  {
   "cell_type": "markdown",
   "id": "e2dffddb",
   "metadata": {},
   "source": [
    "## Classi"
   ]
  },
  {
   "cell_type": "markdown",
   "id": "9deefd7e",
   "metadata": {},
   "source": [
    "Le Classi definiscono le caratteristiche di un Oggetto che corrisponde ad un istanza specifica della Classe.\n",
    "\n",
    "Un Classe viene definita attarverso l'istruzione `class` (ad esempio `class NomeClasse:`)\n",
    "\n",
    "Le Classi e i corrispettivi Oggetti possono avere:\n",
    "* Attributi: variabili che definiscono lo stato di un Oggetto\n",
    "* Metodi: funzioni che modificano lo stato di un Oggetto "
   ]
  },
  {
   "cell_type": "markdown",
   "id": "16d28270",
   "metadata": {},
   "source": [
    "#### `self`\n",
    "\n",
    "Le funzioni che definiscono i metodi di una Classe devono essere definite con un parametro aggiuntivo `self` in ingresso che poi non deve essere passato all momento dell'utilizzo pratico dell'Oggetto \n",
    "\n",
    "Gli attribiti di un Classe definiti all'interno di un metodo devono essere derivati da `self` (`self.attribute`).\n",
    "\n",
    "####  `__init___`\n",
    "\n",
    "In generale è utile fare in modi che un ggetto venga cerato in uno stato predefinito, a tale scopo esiste il metodo \n",
    "`__init__` che viene chaimato al momento della creazione dell'oggetto."
   ]
  },
  {
   "cell_type": "markdown",
   "id": "8eb44c41",
   "metadata": {},
   "source": [
    "### Esempio Base di  Classe\n",
    "\n",
    "Vediamo un esempio basilare."
   ]
  },
  {
   "cell_type": "code",
   "execution_count": null,
   "id": "305e3ec0",
   "metadata": {},
   "outputs": [],
   "source": [
    "class Saluti:\n",
    "    \"\"\"Esempio di Classe in Python\"\"\"\n",
    "\n",
    "    \n",
    "    def __init__(self):\n",
    "        self.saluto = 'Ciao!'     \n",
    "        self.saluti = [self.saluto]\n",
    "\n",
    "        \n",
    "    def un_saluto(self):\n",
    "        print(self.saluto)\n",
    "\n",
    "        \n",
    "    def salutare(self):\n",
    "        for s in self.saluti:        \n",
    "            print(s)\n",
    "\n",
    "            \n",
    "    def aggiungi_saluto(self, nuovo):\n",
    "        self.saluti.append(nuovo)\n",
    "\n",
    "        \n",
    "    def quanti_saluti(self):\n",
    "        return len(self.saluti)"
   ]
  },
  {
   "cell_type": "code",
   "execution_count": null,
   "id": "b3049ebc",
   "metadata": {},
   "outputs": [],
   "source": [
    "mys = Saluti()\n"
   ]
  },
  {
   "cell_type": "code",
   "execution_count": null,
   "id": "8bb256c6",
   "metadata": {},
   "outputs": [],
   "source": [
    "mys.un_saluto()"
   ]
  },
  {
   "cell_type": "code",
   "execution_count": null,
   "id": "45559c17",
   "metadata": {},
   "outputs": [],
   "source": [
    "mys.salutare()"
   ]
  },
  {
   "cell_type": "code",
   "execution_count": null,
   "id": "b62b70ea",
   "metadata": {},
   "outputs": [],
   "source": [
    "ns = mys.quanti_saluti()\n",
    "print(ns) "
   ]
  },
  {
   "cell_type": "code",
   "execution_count": null,
   "id": "1351d27e",
   "metadata": {},
   "outputs": [],
   "source": [
    "mys.aggiungi_saluto('Hello!')"
   ]
  },
  {
   "cell_type": "code",
   "execution_count": null,
   "id": "01be876b",
   "metadata": {},
   "outputs": [],
   "source": [
    "print('Saluti:', mys.quanti_saluti() )"
   ]
  },
  {
   "cell_type": "code",
   "execution_count": null,
   "id": "bbed40e5",
   "metadata": {},
   "outputs": [],
   "source": [
    "mys.salutare()"
   ]
  },
  {
   "cell_type": "code",
   "execution_count": null,
   "id": "08732e84",
   "metadata": {},
   "outputs": [],
   "source": [
    "mys.saluto = 'Arrivederci'"
   ]
  },
  {
   "cell_type": "code",
   "execution_count": null,
   "id": "f69dbebb",
   "metadata": {},
   "outputs": [],
   "source": [
    "mys.un_saluto()"
   ]
  },
  {
   "cell_type": "code",
   "execution_count": null,
   "id": "11fba57b",
   "metadata": {},
   "outputs": [],
   "source": [
    "mys.saluti"
   ]
  },
  {
   "cell_type": "code",
   "execution_count": null,
   "id": "20b55a33",
   "metadata": {},
   "outputs": [],
   "source": [
    "help(Saluti)"
   ]
  },
  {
   "cell_type": "markdown",
   "id": "2195fed0",
   "metadata": {},
   "source": [
    "### Comparatori \n",
    "\n",
    "In una Classe possibile definire come confronatre, ordinare o iterare gli Oggetti definiti."
   ]
  },
  {
   "cell_type": "code",
   "execution_count": null,
   "id": "8d429135",
   "metadata": {},
   "outputs": [],
   "source": [
    "class Veicolo():\n",
    "    \"\"\"\n",
    "    Classe per rappresentare i veicoli a ruote\n",
    "    \n",
    "    Parametri\n",
    "    -------------------------------------------\n",
    "\n",
    "    nome    : nome veicolo\n",
    "    ruote   : numero ruote\n",
    "    potenza : potenza motore \n",
    "    \"\"\"\n",
    "    \n",
    "    def __init__(self, nome, ruote, potenza):\n",
    "        self.nome    = nome\n",
    "        self.ruote   = ruote\n",
    "        self.potenza = potenza\n",
    "        \n",
    "    def __repr__(self):\n",
    "        return 'Veicolo: {:} + {:} + {:}'.format(self.nome, self.ruote, self.potenza)\n",
    "    \n",
    "    def __str__(self):\n",
    "        return 'Veicolo: {:} - {:} - {:}'.format(self.nome, self.ruote, self.potenza)\n",
    "        \n",
    "    def __eq__(self, other):\n",
    "        return  self.ruote == other.ruote and self.potenza == other.potenza\n",
    "\n",
    "\n",
    "    def __lt__(self, other):\n",
    "        return self.potenza < other.potenza\n",
    "\n",
    "    def __gt__(self, other):\n",
    "        return self.potenza > other.potenza\n",
    "    \n",
    "    def minore(self, other):\n",
    "        return self.potenza < other.potenza       "
   ]
  },
  {
   "cell_type": "code",
   "execution_count": null,
   "id": "a2c5252f",
   "metadata": {},
   "outputs": [],
   "source": [
    "auto1  = Veicolo('Ferrari',   4, 490)\n",
    "auto2  = Veicolo('Fiat',      4, 120)\n",
    "auto3  = Veicolo('AlfaRomea', 4, 120)\n",
    "cargo1 = Veicolo('Iveco',     6, 560)"
   ]
  },
  {
   "cell_type": "code",
   "execution_count": null,
   "id": "8d7190a7",
   "metadata": {},
   "outputs": [],
   "source": [
    "auto1"
   ]
  },
  {
   "cell_type": "code",
   "execution_count": null,
   "id": "51d00a16",
   "metadata": {},
   "outputs": [],
   "source": [
    "print(auto1)"
   ]
  },
  {
   "cell_type": "code",
   "execution_count": null,
   "id": "3dca23c7",
   "metadata": {},
   "outputs": [],
   "source": [
    "auto1 == auto2"
   ]
  },
  {
   "cell_type": "code",
   "execution_count": null,
   "id": "2a13e18a",
   "metadata": {},
   "outputs": [],
   "source": [
    "auto1 > auto2"
   ]
  },
  {
   "cell_type": "code",
   "execution_count": null,
   "id": "afa895b5",
   "metadata": {},
   "outputs": [],
   "source": [
    "auto1 < auto2"
   ]
  },
  {
   "cell_type": "code",
   "execution_count": null,
   "id": "6872887f",
   "metadata": {},
   "outputs": [],
   "source": [
    "auto1.minore(auto2)"
   ]
  },
  {
   "cell_type": "code",
   "execution_count": null,
   "id": "7a1ad69e",
   "metadata": {},
   "outputs": [],
   "source": [
    "auto2 == auto3"
   ]
  },
  {
   "cell_type": "code",
   "execution_count": null,
   "id": "2aa0f872",
   "metadata": {},
   "outputs": [],
   "source": [
    "cargo1 > auto1"
   ]
  },
  {
   "cell_type": "code",
   "execution_count": null,
   "id": "6f7f59b2",
   "metadata": {},
   "outputs": [],
   "source": [
    "aa = [ auto1, auto2, auto3]\n",
    "\n",
    "for a in aa:\n",
    "    print(a.nome)"
   ]
  },
  {
   "cell_type": "markdown",
   "id": "9ee878fd",
   "metadata": {},
   "source": [
    "### Import"
   ]
  },
  {
   "cell_type": "markdown",
   "id": "aeb01249",
   "metadata": {},
   "source": [
    "Le classi possono essere definiti in moduli da importare.\n",
    "\n",
    "Analizziamo il file `animali.py`:"
   ]
  },
  {
   "cell_type": "markdown",
   "id": "f82583d2",
   "metadata": {},
   "source": [
    "```\n",
    "class Cane():\n",
    "\n",
    "    _tipo = 'Animale Domestico'\n",
    "    \n",
    "    def __init__(self, nome, razza, colore):\n",
    "        self.nome   = nome\n",
    "        self.razza  = razza\n",
    "        self.colore = colore\n",
    " \n",
    "\n",
    "    def descrizione(self):\n",
    "        print('--------------------------------')\n",
    "        print('Cane     {:}'.format(self._tipo ))        \n",
    "        print('  nome   {:}'.format(self.nome  ))\n",
    "        print('  razza  {:}'.format(self.razza ))\n",
    "        print('  colore {:}'.format(self.colore))\n",
    "        print('--------------------------------')\n",
    "\n",
    "\n",
    "\n",
    "\n",
    "class Felino():\n",
    "\n",
    "    _tipo = 'Carnivoro'\n",
    "    \n",
    "    def __init__(self, nomes, origine, peso):\n",
    "        self.nomes    = nomes\n",
    "        self.origine  = origine\n",
    "        self.peso     = peso\n",
    "\n",
    "\n",
    "    def descrizione(self):\n",
    "        print('--------------------------------------------')\n",
    "        print('Felino             {:}'.format(self._tipo   ))        \n",
    "        print('  nome scientifico {:}'.format(self.nomes   ))\n",
    "        print('  origine          {:}'.format(self.origine ))\n",
    "        print('  peso             {:}'.format(self.peso    ))\n",
    "        print('--------------------------------------------')\n",
    "\n",
    "\n",
    "```"
   ]
  },
  {
   "cell_type": "code",
   "execution_count": null,
   "id": "e3a78e2b",
   "metadata": {},
   "outputs": [],
   "source": [
    "import animali"
   ]
  },
  {
   "cell_type": "code",
   "execution_count": null,
   "id": "adb0b393",
   "metadata": {},
   "outputs": [],
   "source": [
    "fido = animali.Cane('Fido', 'Meticcio', 'Nero')"
   ]
  },
  {
   "cell_type": "code",
   "execution_count": null,
   "id": "d0364060",
   "metadata": {},
   "outputs": [],
   "source": [
    "fido.descrizione()"
   ]
  },
  {
   "cell_type": "code",
   "execution_count": null,
   "id": "806b2240",
   "metadata": {},
   "outputs": [],
   "source": [
    "simba = animali.Felino('Panthera Leo', 'Africa', 300)"
   ]
  },
  {
   "cell_type": "code",
   "execution_count": null,
   "id": "fd216861",
   "metadata": {},
   "outputs": [],
   "source": [
    "simba.descrizione()"
   ]
  },
  {
   "cell_type": "code",
   "execution_count": null,
   "id": "8ced53b6",
   "metadata": {},
   "outputs": [],
   "source": [
    "from animali import Felino"
   ]
  },
  {
   "cell_type": "code",
   "execution_count": null,
   "id": "ba8f7a2a",
   "metadata": {},
   "outputs": [],
   "source": [
    "tigrea = Felino('Panthera Tigris', 'Asia', 330)"
   ]
  },
  {
   "cell_type": "code",
   "execution_count": null,
   "id": "656fc1c7",
   "metadata": {},
   "outputs": [],
   "source": [
    "tigrea.descrizione()"
   ]
  }
 ],
 "metadata": {
  "kernelspec": {
   "display_name": "Python 3 (ipykernel)",
   "language": "python",
   "name": "python3"
  },
  "language_info": {
   "codemirror_mode": {
    "name": "ipython",
    "version": 3
   },
   "file_extension": ".py",
   "mimetype": "text/x-python",
   "name": "python",
   "nbconvert_exporter": "python",
   "pygments_lexer": "ipython3",
   "version": "3.8.10"
  }
 },
 "nbformat": 4,
 "nbformat_minor": 5
}
