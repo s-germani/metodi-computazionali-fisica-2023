{
 "cells": [
  {
   "cell_type": "markdown",
   "id": "c1eb3004",
   "metadata": {},
   "source": [
    "# Modulo _argparse_"
   ]
  },
  {
   "cell_type": "markdown",
   "id": "b9d96ff4",
   "metadata": {},
   "source": [
    "Un modulo molto utile è `argparse` che facilita la gestione di argomento da riga di comando per script e programmi `Python`"
   ]
  },
  {
   "cell_type": "code",
   "execution_count": 16,
   "id": "04ea33e7",
   "metadata": {},
   "outputs": [],
   "source": [
    "import argparse"
   ]
  },
  {
   "cell_type": "markdown",
   "id": "f2e80a30",
   "metadata": {},
   "source": [
    "Si può definire una funzione che definisca gli argomenti da pasare ed eventuali spiegazioni per l'opzione `--help`"
   ]
  },
  {
   "cell_type": "code",
   "execution_count": 17,
   "id": "01b6348d",
   "metadata": {},
   "outputs": [],
   "source": [
    "def parse_arguments():\n",
    "    parser = argparse.ArgumentParser(description='Esempio utilizzo argarse.')\n",
    "    parser.add_argument('-b', '--opzione1',    action='store_true', help='Esempio di opzione booleana')\n",
    "    parser.add_argument('-v', '--opzione2',    action='store',      help='Esempio di opzione con valore')\n",
    "    parser.add_argument('-d', '--opzione3',    action='store',  type=int,  default=10,  help='Esempio di opzione con valore tipo e default')\n",
    "    return  parser.parse_args()"
   ]
  },
  {
   "cell_type": "markdown",
   "id": "18b6d714",
   "metadata": {},
   "source": [
    "La funzine si può richiamare nella funzione principale o in altre funzioni."
   ]
  },
  {
   "cell_type": "code",
   "execution_count": null,
   "id": "cd3e400b",
   "metadata": {},
   "outputs": [],
   "source": [
    "def main():\n",
    "    ...\n",
    "    args = parse_arguments()\n",
    "    ..."
   ]
  },
  {
   "cell_type": "markdown",
   "id": "a31d1216",
   "metadata": {},
   "source": [
    "## Esempio completo\n",
    "\n",
    "Il codice con un sesempio completo è disponibile nel repository `GitHub` del corso al percorso:\n",
    "`esempi/argparse/`"
   ]
  },
  {
   "cell_type": "markdown",
   "id": "7bf91811",
   "metadata": {},
   "source": [
    "Per testare e comprendere le funzionalità dell'esempio si consiglia di provare i seguenti comandi da riga di comando, una volta scaricato il file `argparse_example.py`:\n",
    "\n",
    "1. `python3 argparse_example.py --help`\n",
    "2. `python3 argparse_example.py -b`\n",
    "3. `python3 argparse_example.py --opzione1`\n",
    "4. `python3 argparse_example.py -v 12`\n",
    "5. `python3 argparse_example.py --opzione2 112`\n",
    "6. `python3 argparse_example.py --opzione3 5`\n",
    "7. `python3 argparse_example.py --opzione3 255`\n",
    "8. `python3 argparse_example.py -d 255`\n"
   ]
  }
 ],
 "metadata": {
  "kernelspec": {
   "display_name": "Python 3 (ipykernel)",
   "language": "python",
   "name": "python3"
  },
  "language_info": {
   "codemirror_mode": {
    "name": "ipython",
    "version": 3
   },
   "file_extension": ".py",
   "mimetype": "text/x-python",
   "name": "python",
   "nbconvert_exporter": "python",
   "pygments_lexer": "ipython3",
   "version": "3.8.10"
  }
 },
 "nbformat": 4,
 "nbformat_minor": 5
}
