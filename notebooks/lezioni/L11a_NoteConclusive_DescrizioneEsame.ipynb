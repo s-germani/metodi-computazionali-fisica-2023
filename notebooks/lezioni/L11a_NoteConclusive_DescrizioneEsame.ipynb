{
 "cells": [
  {
   "cell_type": "markdown",
   "id": "640563bb",
   "metadata": {},
   "source": [
    "# Note Conclusive - Descrizione Esame"
   ]
  },
  {
   "cell_type": "markdown",
   "id": "6a96f2b9",
   "metadata": {},
   "source": [
    "## Argomenti Avanzati"
   ]
  },
  {
   "cell_type": "markdown",
   "id": "ce21abf5",
   "metadata": {},
   "source": [
    "Per ognuno degli argmenti affrontati durante il corso sono possibili notevoli approfontimenti, alcuni in parte trattati nel libro."
   ]
  },
  {
   "cell_type": "markdown",
   "id": "d592525b",
   "metadata": {},
   "source": [
    "Oltre ad approfondimenti relativi alle tecniche trattate, esistono diversi argomenti avanzati che prevedono la conoscenza di metodi base, ad esempio:\n",
    "\n",
    "* Data Science \n",
    "* Machine Learning\n",
    "* Calcolo con GPU \n",
    "* Parallelizzazione"
   ]
  },
  {
   "cell_type": "markdown",
   "id": "c59591ae",
   "metadata": {},
   "source": [
    "## Linguaggi o Pacchetti Alternativi"
   ]
  },
  {
   "cell_type": "markdown",
   "id": "caa5dbe8",
   "metadata": {},
   "source": [
    "Python è uno dei linguaggi più utilizzati con funzionalità e pacchetti disponibili in continua espansione ma esistono diverse piattaforme alternative, alcune particolarmente utilizzate all'interno di comunità specifiche."
   ]
  },
  {
   "cell_type": "markdown",
   "id": "2eac52c9",
   "metadata": {},
   "source": [
    "Alcuni esempi di possibili piattaforme alternative:\n",
    "\n",
    "* ROOT  (basato su C++): https://root.cern/\n",
    "    * Utilizzabile attraverso python col pacchetto PyROOT (https://root.cern/manual/python/)\n",
    "    \n",
    "* Origin: https://www.originlab.com/\n",
    "\n",
    "* MATLAB: https://it.mathworks.com/products/matlab.html\n",
    "\n",
    "* MATHEMATICA: https://www.wolfram.com/mathematica/"
   ]
  },
  {
   "cell_type": "markdown",
   "id": "404553e4",
   "metadata": {},
   "source": [
    "## Esame"
   ]
  },
  {
   "cell_type": "markdown",
   "id": "51eca240",
   "metadata": {},
   "source": [
    "L'esame si compone di due parti:\n",
    "* La realizzazine di un progetto da consegnare in anticipo;\n",
    "* Un esame orale in cui verranno discussi il progetto e le tecniche computazionali utilizzate."
   ]
  },
  {
   "cell_type": "markdown",
   "id": "9645225d",
   "metadata": {},
   "source": [
    "### Progetto"
   ]
  },
  {
   "cell_type": "markdown",
   "id": "887b4d37",
   "metadata": {},
   "source": [
    "Il progetto verrà assegnato dal docente anche su base di eventuali proposte degli studenti. \n",
    "\n",
    "I progetti saranno (tendenzialmente) differenziati e prevederanno la combinazione di più tecniche utilizzate in laboratorio durante il corso.\n",
    "\n",
    "#### GitHub\n",
    "\n",
    "Il progetto va consgenato tramite un repository GitHub dedicato.\n",
    "\n",
    "La consegna del progetto avviene attraverso l'invio del link al repository GitHub.\n",
    "\n",
    "La consegna del progetto deve avvenire almeno una settimana prima della data stabilita per l'orale.\n",
    "\n",
    "#### Validazione progetto\n",
    "\n",
    "Il repository GitHub deve essre corredato con un file README contenente le istruzioni necessarue per utilizzare le funzionalità sviluppate.\n",
    "\n",
    "Condizione NECESSARIA per l'accesso all'orale è che il docente, segunedo le istruzioni del file README,  riesca ad eseguire con successo TUTTI gli sript richiesti o a verificare TUTTE le funzionalità stabilite al momento dell'assegnazione del progetto."
   ]
  },
  {
   "cell_type": "markdown",
   "id": "f061acb1",
   "metadata": {},
   "source": [
    "### Esame Orale"
   ]
  },
  {
   "cell_type": "markdown",
   "id": "f6551915",
   "metadata": {},
   "source": [
    "L'esame orale verterà sulla descrizione del progetto e sulla motivazione delle scelte fatte durante lo sviluppo. \n",
    "\n",
    "Le scelte fatte andranno motivate sia dal punto di vista informatico che matematico.\n",
    "\n",
    "Si richiede si preparare una breve presentazione come supporto per la descrizione del progetto (massimo 15 slide)."
   ]
  }
 ],
 "metadata": {
  "kernelspec": {
   "display_name": "Python 3 (ipykernel)",
   "language": "python",
   "name": "python3"
  },
  "language_info": {
   "codemirror_mode": {
    "name": "ipython",
    "version": 3
   },
   "file_extension": ".py",
   "mimetype": "text/x-python",
   "name": "python",
   "nbconvert_exporter": "python",
   "pygments_lexer": "ipython3",
   "version": "3.8.10"
  }
 },
 "nbformat": 4,
 "nbformat_minor": 5
}
