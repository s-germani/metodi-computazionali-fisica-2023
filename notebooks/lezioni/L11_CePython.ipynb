{
 "cells": [
  {
   "cell_type": "markdown",
   "id": "e92053e3",
   "metadata": {},
   "source": [
    "# Integrazione C-Python"
   ]
  },
  {
   "cell_type": "code",
   "execution_count": 1,
   "id": "e4ca0b0a",
   "metadata": {},
   "outputs": [],
   "source": [
    "import sys,os\n",
    "import numpy as np"
   ]
  },
  {
   "cell_type": "markdown",
   "id": "1c9ceb38",
   "metadata": {},
   "source": [
    "Come detto diverse volte nel corso delle lezioni passate le principali librerie scientifiche in python (*numpy*, *scipy*, *pandas* e altre) forniscono spesso un interfaccia python a funzioni scritte in lingiaggi compilati come C e Fortran per velocizzare e rendere più efficiente la parte di calcolo vero e proprio. \n",
    "\n",
    "Un altro motivo per interfacciare C/C++ e python potrebbe essere quello di utlizzare librerie sftware già esistenti. "
   ]
  },
  {
   "cell_type": "markdown",
   "id": "0c11d179",
   "metadata": {},
   "source": [
    "Esitono diversi modi per interfacciare python con C o C++. Per una decrizione delle possibili scelte vedere ad esempio  https://scipy-lectures.org/advanced/interfacing_with_c/interfacing_with_c.html."
   ]
  },
  {
   "cell_type": "markdown",
   "id": "0b17282e",
   "metadata": {},
   "source": [
    "## Librerie Condivise \n",
    "\n",
    "Uno dei metodi più usati per per permettere di utilizzare il codice (C/C++) sviluppato all'interno di altri programmi è quello di creare librerie condivise.\n",
    "\n",
    "Le librerie condivise sono librerie che vengono caricate all'avvio dei programmi. Una volta che una libreria condivisa è stata correttamente installata, tutti i programmi successivamente eseguiti ne faranno automaticamente uso."
   ]
  },
  {
   "cell_type": "markdown",
   "id": "3a8f5095",
   "metadata": {},
   "source": [
    "In Linux, e nei sistemi basati su UNIX in generale, le librerie condvise hanno l'estenzione `.so` (Shared Object) mentre nei sistemi Windows ci si riferisce a file `.dll` (Dynamic-Link Libraries).\n",
    "\n",
    "ATTENZIONE il funzionamento delle librerire `.so` e `.dll` non è easattamente identico, le informazioni di seguito fanno espresso riferimento a sistemi Linux e quindi a librerie `.so`."
   ]
  },
  {
   "cell_type": "markdown",
   "id": "afa94d0d",
   "metadata": {},
   "source": [
    "Ogni libreria condivisa ha uno speciale nome chiamato *soname*. Il *soname§ è caratterizzato dal prefisso *lib*, dal nome della libreria, dall'estensione  `.so`, ad esempio il file della libreria chiamata *pippo*  sarà chaiamto \n",
    "`libpippo.so`.\n",
    "\n"
   ]
  },
  {
   "cell_type": "markdown",
   "id": "f72383dd",
   "metadata": {},
   "source": [
    "#### LD_LIBRARY_PATH\n",
    "\n",
    "la variabile ambientale LD_LIBRARY_PATH  definisce i percorsi dove cercare i file per le librerie condivise, in maniera analoga alla variabile PYTHONPATH che definisce i percorsi per i moduli python."
   ]
  },
  {
   "cell_type": "markdown",
   "id": "2b19b5f9",
   "metadata": {},
   "source": [
    "## ctypes"
   ]
  },
  {
   "cell_type": "markdown",
   "id": "9cbfe15c",
   "metadata": {},
   "source": [
    "Uno degli esempi più semplici di modulo da utilizzare per creare un'interfaccia python per del codice scritto in C è `ctypes`.  \n",
    "\n",
    "`ctypes` non richiede istallazioni aggiuntive ed è abbastanza samplice da utilizzare, fornisce però un support limitato al C++."
   ]
  },
  {
   "cell_type": "markdown",
   "id": "045e82c2",
   "metadata": {},
   "source": [
    "La procedura per utlizzare codice C attraverso `ctypes`  può essere riassunta nei seguenti passi:\n",
    "\n",
    "* scrivere codice C con funzioni che forniscano le funzionalità necessarie\n",
    "* compilare il codice C per ottenere una libreria condivisa\n",
    "* scrivere un modulo python che definisca l'interfaccia python alla libreria condivisa attarverso `ctypes` nel seguente modo:\n",
    "    * importando la libreria condivisa\n",
    "    * defienendo la mappatura deii tipi di dati di input/output fra C e python\n",
    "    * definendo funzioni python che richaimino appropriatamente le funzioni definite in C."
   ]
  },
  {
   "cell_type": "markdown",
   "id": "65759b31",
   "metadata": {},
   "source": [
    "### Il modulo somme"
   ]
  },
  {
   "cell_type": "markdown",
   "id": "1dd1cd8d",
   "metadata": {},
   "source": [
    "Per maggiore chairezza vediamo un esempio dimostrativo.\n",
    "\n",
    "Definiamo  un modulo `somme` che deve fornire le sehuenti funzioanlità:\n",
    "* somma dei primi *n* numeri naturali\n",
    "* somma delle radici dei primi *n* numeri naturali\n",
    "* somma degli elementi di un array"
   ]
  },
  {
   "cell_type": "markdown",
   "id": "46661780",
   "metadata": {},
   "source": [
    "#### somme.c"
   ]
  },
  {
   "cell_type": "markdown",
   "id": "27e3d715",
   "metadata": {},
   "source": [
    "Iniziamo implementando il codice C che esegua le suddette operazioni all'interno del file `somme.c`"
   ]
  },
  {
   "cell_type": "markdown",
   "id": "7508b2fc",
   "metadata": {},
   "source": [
    "```\n",
    "#include <stdio.h>\n",
    "#include <math.h>\n",
    "\n",
    "\n",
    "// Somma primi n numeri naturali\n",
    "int sum_n(int n){\n",
    "\n",
    "  int somma = 0;\n",
    "\n",
    "  int i;\n",
    "  for( i=0; i<=n; ++i) \n",
    "    somma += i;\n",
    "\n",
    "  return somma; \n",
    "}\n",
    "\n",
    "\n",
    "\n",
    "// Somma delle radici quadrate dei primi n numeri naturali\n",
    "double sum_sqrtn(int n){\n",
    "\n",
    "  double somma = 0;\n",
    "\n",
    "  int i;\n",
    "  for( i=0; i<=n; ++i) \n",
    "    somma += sqrt(i);\n",
    "\n",
    "  return somma; \n",
    "}\n",
    "\n",
    "\n",
    "\n",
    "// Somma degli elementi di un array\n",
    "// *av: puntatore ad un array di double\n",
    "// n  : numero di elementi dell'array\n",
    "double sum_array(double *av, int n){\n",
    "\n",
    "  double somma = 0;\n",
    "  int i; \n",
    "  \n",
    "  for( i=0; i < n; ++i) \n",
    "    somma += av[i];\n",
    "\n",
    "  return somma;\n",
    "}\n",
    "```"
   ]
  },
  {
   "cell_type": "markdown",
   "id": "f5812d52",
   "metadata": {},
   "source": [
    "#### libsomme.so"
   ]
  },
  {
   "cell_type": "markdown",
   "id": "c54980ae",
   "metadata": {},
   "source": [
    "La creazione di librerie condivise, nel cas di pacchett software strutturati, può essere un'operazione complessa che richiede un Makefile; nel nostro caso è sufficiente utilizzare direttaemnet il compilatore `gcc` con il seguente comando da terminale:"
   ]
  },
  {
   "cell_type": "markdown",
   "id": "6a905430",
   "metadata": {},
   "source": [
    "```\n",
    "gcc -o libsomme.so -shared somme.c\n",
    "\n",
    "```"
   ]
  },
  {
   "cell_type": "markdown",
   "id": "bd223fdc",
   "metadata": {},
   "source": [
    "dove l'opzione `-o` fornisce il nome del file di output, e `-shared` specifica che l'output che si vuole è una libreria condivisa. \n",
    "\n",
    "Esaminando la cartella, in assenza di errori, dovrebbe essere presente il file `libsomme.so`"
   ]
  },
  {
   "cell_type": "markdown",
   "id": "c653db3f",
   "metadata": {},
   "source": [
    "#### somme.py"
   ]
  },
  {
   "cell_type": "markdown",
   "id": "e0bda2f1",
   "metadata": {},
   "source": [
    "Il file `somme.py`, definirà il modulo python che permette l'utilizzo delle funzioni C definite in `somme.c`"
   ]
  },
  {
   "cell_type": "markdown",
   "id": "2f08e05e",
   "metadata": {},
   "source": [
    "```\n",
    "import numpy\n",
    "import ctypes\n",
    "\n",
    "# Carico la lireria libsomme (libsomme.so) che è presente nella cartella di lavoro  ('.')\n",
    "_libsomme = numpy.ctypeslib.load_library('libsomme', '.')\n",
    "\n",
    "# definizoine tipi di input (argtypes) e di output (restypes) per la funzione sum_n di libsomme \n",
    "_libsomme.sum_n.argtypes = [ctypes.c_int]\n",
    "_libsomme.sum_n.restype  = ctypes.c_int\n",
    "\n",
    "# definizoine tipi di input (argtypes) e di output (restypes) per la funzione sum_sqrtn di libsomme \n",
    "_libsomme.sum_sqrtn.argtypes = [ctypes.c_int]\n",
    "_libsomme.sum_sqrtn.restype  = ctypes.c_double\n",
    "\n",
    "\n",
    "# definizoine tipi di input (argtypes) e di output (restypes) per la funzione sum_array di libsomme \n",
    "_libsomme.sum_array.argtypes = [numpy.ctypeslib.ndpointer(dtype=numpy.float), ctypes.c_int]\n",
    "_libsomme.sum_array.restype  = ctypes.c_double\n",
    "\n",
    "\n",
    "# utilizzo di _libsomme.sum_n\n",
    "# il parametro n va necessariamente convertito in int\n",
    "def sum_n(n):\n",
    "    return _libsomme.sum_n(int(n))\n",
    "\n",
    "\n",
    "# utilizzo di _libsomme.sum_sqrtn\n",
    "# il parametro n va necessariamente convertito in int\n",
    "def sum_sqrtn(n):\n",
    "    return _libsomme.sum_sqrtn(int(n))\n",
    "\n",
    "\n",
    "# utilizzo di _libsomme.sum_array\n",
    "# il parametro n va necessariamente ricavato dall'array di input e convertito in int\n",
    "# l'oggetto av va necessariamente convertito in array (potrebbbe essere anche  uno scalare, una lista, o una ntupla )\n",
    "def sum_array(av):\n",
    "    n = len(av)\n",
    "    av = numpy.asarray(av, dtype=numpy.float)\n",
    "    return _libsomme.sum_array(av, int(n))\n",
    "\n",
    "```"
   ]
  },
  {
   "cell_type": "markdown",
   "id": "ff8b9523",
   "metadata": {},
   "source": [
    "#### Utilizzo modulo somme"
   ]
  },
  {
   "cell_type": "markdown",
   "id": "6def3cff",
   "metadata": {},
   "source": [
    "Proviamo ad utilizzare il modulo `somme` derivato da `libsomme`. \n",
    "\n",
    "Per prima cosa bisogna includere la cartella del modulo nel PYTHONPATH"
   ]
  },
  {
   "cell_type": "code",
   "execution_count": 2,
   "id": "8c2db9de",
   "metadata": {},
   "outputs": [],
   "source": [
    "# Aggiungo la cartella del modulo al path python \n",
    "# in alternativa si può settare la variabile ambientale da terminale\n",
    "#   export PYTHONTAH=$PYTHONPATH:/percorso/modulo\n",
    "sys.path.append('../../accessori/L11')"
   ]
  },
  {
   "cell_type": "code",
   "execution_count": 3,
   "id": "b960233f",
   "metadata": {},
   "outputs": [
    {
     "data": {
      "text/plain": [
       "['/home/sg/Documents/Didattica/MetodiComputazionali/metodi-computazionali-fisica-2023/notebooks/lezioni',\n",
       " '/usr/local/etc/root/lib',\n",
       " '/usr/lib/python38.zip',\n",
       " '/usr/lib/python3.8',\n",
       " '/usr/lib/python3.8/lib-dynload',\n",
       " '',\n",
       " '/home/sg/.local/lib/python3.8/site-packages',\n",
       " '/usr/local/lib/python3.8/dist-packages',\n",
       " '/usr/lib/python3/dist-packages',\n",
       " '../../accessori/L11']"
      ]
     },
     "execution_count": 3,
     "metadata": {},
     "output_type": "execute_result"
    }
   ],
   "source": [
    "sys.path"
   ]
  },
  {
   "cell_type": "code",
   "execution_count": 4,
   "id": "5f479aec",
   "metadata": {},
   "outputs": [],
   "source": [
    "import somme"
   ]
  },
  {
   "cell_type": "code",
   "execution_count": 5,
   "id": "02b07d88",
   "metadata": {},
   "outputs": [
    {
     "name": "stdout",
     "output_type": "stream",
     "text": [
      "Help on module somme:\n",
      "\n",
      "NAME\n",
      "    somme\n",
      "\n",
      "FUNCTIONS\n",
      "    sum_array(av)\n",
      "        # utilizzo di _libsomme.sum_array\n",
      "        # il parametro n va necessariamente ricavato dall'array di input e convertito in int\n",
      "        # l'oggetto av va necessariamente convertito in array (potrebbbe essere anche  uno scalare, una lista, o una ntupla )\n",
      "    \n",
      "    sum_n(n)\n",
      "        # utilizzo di _libsomme.sum_n\n",
      "        # il parametro n va necessariamente convertito in int\n",
      "    \n",
      "    sum_sqrtn(n)\n",
      "        # utilizzo di _libsomme.sum_sqrtn\n",
      "        # il parametro n va necessariamente convertito in int\n",
      "\n",
      "DATA\n",
      "    __warningregistry__ = {'version': 1033}\n",
      "\n",
      "FILE\n",
      "    /home/sg/Documents/Didattica/MetodiComputazionali/metodi-computazionali-fisica-2023/accessori/L11/somme.py\n",
      "\n",
      "\n"
     ]
    }
   ],
   "source": [
    "help(somme)"
   ]
  },
  {
   "cell_type": "markdown",
   "id": "99c21fca",
   "metadata": {},
   "source": [
    "Utilizziamo le funzoni del modulo `somme`"
   ]
  },
  {
   "cell_type": "code",
   "execution_count": 6,
   "id": "9bbe7034",
   "metadata": {},
   "outputs": [
    {
     "name": "stdout",
     "output_type": "stream",
     "text": [
      "5050\n"
     ]
    }
   ],
   "source": [
    "# sum_n\n",
    "print(somme.sum_n(100))"
   ]
  },
  {
   "cell_type": "code",
   "execution_count": 7,
   "id": "02f9aa01",
   "metadata": {},
   "outputs": [
    {
     "name": "stdout",
     "output_type": "stream",
     "text": [
      "671.4629471031477\n"
     ]
    }
   ],
   "source": [
    "# sum_sqrtn\n",
    "print(somme.sum_sqrtn(100))"
   ]
  },
  {
   "cell_type": "code",
   "execution_count": 8,
   "id": "c7f290a1",
   "metadata": {},
   "outputs": [
    {
     "name": "stdout",
     "output_type": "stream",
     "text": [
      "[ 0  1  2  3  4  5  6  7  8  9 10 11 12 13 14 15 16 17 18 19]\n",
      "190.0\n"
     ]
    }
   ],
   "source": [
    "# sum_array\n",
    "\n",
    "aa = np.arange(20)\n",
    "print(aa)\n",
    "print(somme.sum_array(aa))"
   ]
  },
  {
   "cell_type": "markdown",
   "id": "b24f35f8",
   "metadata": {},
   "source": [
    "#### Confronto con numpy e codice python interamente interpretato"
   ]
  },
  {
   "cell_type": "code",
   "execution_count": 9,
   "id": "aca2f185",
   "metadata": {},
   "outputs": [],
   "source": [
    "# funzione python che fa la somma degli elemnti di un array \n",
    "def mysum_array(av):\n",
    "    s = 0\n",
    "    for v in av:\n",
    "        s += v\n",
    "    return s"
   ]
  },
  {
   "cell_type": "code",
   "execution_count": 10,
   "id": "eed9c873",
   "metadata": {},
   "outputs": [],
   "source": [
    "import time"
   ]
  },
  {
   "cell_type": "code",
   "execution_count": 11,
   "id": "e27a21ee",
   "metadata": {},
   "outputs": [],
   "source": [
    "# array di 10^6 elementi\n",
    "along = np.arange(1e8)/3.33\n",
    "\n"
   ]
  },
  {
   "cell_type": "code",
   "execution_count": 12,
   "id": "c030784f",
   "metadata": {},
   "outputs": [],
   "source": [
    "# test funzione interpretatata\n",
    "tstart_py = time.time()\n",
    "res_py    = mysum_array(along)\n",
    "tstop_py  = time.time()"
   ]
  },
  {
   "cell_type": "code",
   "execution_count": 13,
   "id": "7cfa7033",
   "metadata": {},
   "outputs": [],
   "source": [
    "# test funzione da modulo somme (ctypes)\n",
    "tstart_c = time.time()\n",
    "res_c    = somme.sum_array(along)\n",
    "tstop_c  = time.time()"
   ]
  },
  {
   "cell_type": "code",
   "execution_count": 14,
   "id": "af1824e8",
   "metadata": {},
   "outputs": [],
   "source": [
    "# test funzione sum numpy\n",
    "tstart_np = time.time()\n",
    "res_np    = along.sum()\n",
    "tstop_np  = time.time()"
   ]
  },
  {
   "cell_type": "code",
   "execution_count": 15,
   "id": "732f23db",
   "metadata": {},
   "outputs": [
    {
     "name": "stdout",
     "output_type": "stream",
     "text": [
      "py  somma = 1501501486486486   durata = 4.659171 s\n",
      "C   somma = 1501501486486486   durata = 0.206451 s\n",
      "np  somma = 1501501486486486   durata = 0.048165 s\n"
     ]
    }
   ],
   "source": [
    "# Confronto risultati\n",
    "\n",
    "print('py  somma = {:.0f}   durata = {:.6f} s'.format( res_py, tstop_py-tstart_py))\n",
    "print('C   somma = {:.0f}   durata = {:.6f} s'.format( res_c,  tstop_c -tstart_c))\n",
    "print('np  somma = {:.0f}   durata = {:.6f} s'.format( res_np, tstop_np-tstart_np))"
   ]
  }
 ],
 "metadata": {
  "kernelspec": {
   "display_name": "Python 3 (ipykernel)",
   "language": "python",
   "name": "python3"
  },
  "language_info": {
   "codemirror_mode": {
    "name": "ipython",
    "version": 3
   },
   "file_extension": ".py",
   "mimetype": "text/x-python",
   "name": "python",
   "nbconvert_exporter": "python",
   "pygments_lexer": "ipython3",
   "version": "3.8.10"
  }
 },
 "nbformat": 4,
 "nbformat_minor": 5
}
